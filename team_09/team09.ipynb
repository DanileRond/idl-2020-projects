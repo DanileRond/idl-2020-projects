{
  "nbformat": 4,
  "nbformat_minor": 0,
  "metadata": {
    "colab": {
      "name": "team09.ipynb",
      "provenance": [],
      "collapsed_sections": []
    },
    "kernelspec": {
      "name": "python3",
      "display_name": "Python 3"
    }
  },
  "cells": [
    {
      "cell_type": "code",
      "metadata": {
        "id": "2sNeGiq3geGm",
        "colab_type": "code",
        "colab": {}
      },
      "source": [
        "import matplotlib.pyplot as plt\n",
        "import numpy as np\n",
        "import random\n",
        "import torch\n",
        "import torch.nn as nn\n",
        "import torch.nn.functional as F\n",
        "import torch.optim as optim\n",
        "from torchvision import datasets, transforms"
      ],
      "execution_count": 0,
      "outputs": []
    },
    {
      "cell_type": "code",
      "metadata": {
        "id": "xeheCSfohHQU",
        "colab_type": "code",
        "colab": {}
      },
      "source": [
        "seed = 20\n",
        "torch.manual_seed(seed)\n",
        "torch.backends.cudnn.deterministic = True\n",
        "torch.backends.cudnn.benchmark = False\n",
        "np.random.seed(seed)\n",
        "random.seed(seed)"
      ],
      "execution_count": 0,
      "outputs": []
    },
    {
      "cell_type": "markdown",
      "metadata": {
        "id": "JyCg-faV8Cs_",
        "colab_type": "text"
      },
      "source": [
        "Class modification:\n",
        "1.   Constructor now needs a function as a parameter\n",
        "2.   There is a generic function that is used after each convolution network or fully connected network.\n",
        "\n",
        "Now we can have many models with different activation functions\n"
      ]
    },
    {
      "cell_type": "code",
      "metadata": {
        "id": "Gnmm0yPWhONY",
        "colab_type": "code",
        "colab": {}
      },
      "source": [
        "class Net(nn.Module):\n",
        "    def __init__(self, func):\n",
        "        super(Net, self).__init__()\n",
        "        self.conv1 = nn.Conv2d(1, 20, 5, 1)\n",
        "        self.conv2 = nn.Conv2d(20, 50, 5, 1)\n",
        "        self.fc1 = nn.Linear(4*4*50, 500)\n",
        "        self.fc2 = nn.Linear(500, 10)\n",
        "        self.function = func\n",
        "    def forward(self, x):\n",
        "        x = self.function(self.conv1(x))\n",
        "        x = F.max_pool2d(x, 2, 2)\n",
        "        x = self.function(self.conv2(x))\n",
        "        x = F.max_pool2d(x, 2, 2)\n",
        "        x = x.view(-1, 4*4*50)\n",
        "        x = self.function(self.fc1(x))\n",
        "        x = self.fc2(x)\n",
        "        return F.log_softmax(x, dim=1)"
      ],
      "execution_count": 0,
      "outputs": []
    },
    {
      "cell_type": "code",
      "metadata": {
        "id": "L5DdDDSFheBD",
        "colab_type": "code",
        "colab": {}
      },
      "source": [
        "def train(log_interval, model, device, train_loader, optimizer, epoch):\n",
        "    losses=[]\n",
        "    model.train()\n",
        "    for batch_idx, (data, target) in enumerate(train_loader):\n",
        "        data, target=data.to(device), target.to(device)\n",
        "        optimizer.zero_grad()\n",
        "        output=model(data)\n",
        "        loss=F.nll_loss(output, target)\n",
        "        loss.backward()\n",
        "        optimizer.step()\n",
        "        losses.append(loss.item())\n",
        "        if batch_idx % log_interval == 0:\n",
        "          print('Train Epoch: {} [{}/{} ({:.0f}%)]\\tLoss: {:.6f}'.format( \n",
        "                 epoch, batch_idx * len(data), len(train_loader.dataset),\n",
        "                100.*batch_idx/len(train_loader) , loss.item()))\n",
        "    return losses"
      ],
      "execution_count": 0,
      "outputs": []
    },
    {
      "cell_type": "code",
      "metadata": {
        "id": "I5JXW4t1hzu_",
        "colab_type": "code",
        "colab": {}
      },
      "source": [
        "def validate(model, device, loader):\n",
        "    model.eval()  #model in evaluation mode\n",
        "    validation_loss = 0\n",
        "    correct = 0\n",
        "    with torch.no_grad():\n",
        "        for data, target in loader:\n",
        "            data, target = data.to(device), target.to(device)\n",
        "            output = model(data)\n",
        "            validation_loss += F.nll_loss(output, target, reduction='sum').item()\n",
        "            pred = output.argmax(dim=1, keepdim=True)\n",
        "            correct += pred.eq(target.view_as(pred)).sum().item()\n",
        "    validation_loss /= len(loader.dataset)\n",
        "    print('\\nValidation set: Average loss: {:.4f}, Accuracy: {}/{} ({:.0f}%)\\n'.format(\n",
        "        validation_loss, correct, len(loader.dataset), 100.*correct/len(loader.dataset)))\n",
        "    return validation_loss"
      ],
      "execution_count": 0,
      "outputs": []
    },
    {
      "cell_type": "code",
      "metadata": {
        "id": "BhxMxproiMh0",
        "colab_type": "code",
        "colab": {}
      },
      "source": [
        "train_batch_size = 128\n",
        "\n",
        "mnist_mean = 0.1307\n",
        "mnist_stddev = 0.3081\n",
        "train_loader = torch.utils.data.DataLoader(\n",
        "    datasets.MNIST('./data',\n",
        "                   train=True,\n",
        "                   download=True,\n",
        "                   transform=transforms.Compose([\n",
        "                       transforms.ToTensor(),\n",
        "                       transforms.Normalize((mnist_mean,), (mnist_stddev,))\n",
        "                   ])),\n",
        "    batch_size=train_batch_size,\n",
        "    shuffle=True)\n",
        "\n",
        "valid_batch_size = 1000\n",
        "valid_loader = torch.utils.data.DataLoader(\n",
        "    datasets.MNIST('./data',\n",
        "                   train=False,\n",
        "                   transform=transforms.Compose([\n",
        "                       transforms.ToTensor(),\n",
        "                       transforms.Normalize((mnist_mean,), (mnist_stddev,))\n",
        "                   ])),\n",
        "    batch_size=valid_batch_size,\n",
        "    shuffle=True)"
      ],
      "execution_count": 0,
      "outputs": []
    },
    {
      "cell_type": "markdown",
      "metadata": {
        "id": "GnrHGaiO7snX",
        "colab_type": "text"
      },
      "source": [
        "Sigmoid, ReLU, Leaky ReLU and Hyperbolic Tanjant differences:"
      ]
    },
    {
      "cell_type": "markdown",
      "metadata": {
        "id": "YK8n10CE7gHA",
        "colab_type": "text"
      },
      "source": [
        "![alt text](https://i.imgur.com/0yIq5yx.png)"
      ]
    },
    {
      "cell_type": "markdown",
      "metadata": {
        "id": "_AVBEG3v9OfV",
        "colab_type": "text"
      },
      "source": [
        "Each model now prints the name of its activation function."
      ]
    },
    {
      "cell_type": "code",
      "metadata": {
        "id": "InizTFFwl6uk",
        "colab_type": "code",
        "outputId": "0a982fc5-6825-4909-f0db-9e2b6254874a",
        "colab": {
          "base_uri": "https://localhost:8080/",
          "height": 1000
        }
      },
      "source": [
        "device = torch.device(\"cuda:0\" if torch.cuda.is_available() else \"cpu\")\n",
        "model_ReLU = Net(F.relu).to(device)\n",
        "ReLU_optimizer = optim.SGD(model_ReLU.parameters(), lr=0.01, momentum=0.5)\n",
        "\n",
        "ReLU_train_losses = []\n",
        "ReLU_valid_losses = []\n",
        "ReLU_valid_x = []\n",
        "num_epochs = 10\n",
        "current_model = model_ReLU.function\n",
        "print('Model: {} '.format(current_model.__name__ ))\n",
        "\n",
        "for epoch in range(1, num_epochs + 1):\n",
        "    epoch_losses = train(80, model_ReLU, device, train_loader, ReLU_optimizer, epoch)\n",
        "    ReLU_train_losses.extend(epoch_losses)\n",
        "    valid_loss = validate(model_ReLU, device, valid_loader)\n",
        "    ReLU_valid_losses.append([valid_loss])\n",
        "    ReLU_valid_x.append(len(ReLU_train_losses) - 1)\n",
        "\n"
      ],
      "execution_count": 0,
      "outputs": [
        {
          "output_type": "stream",
          "text": [
            "Model: relu \n",
            "Train Epoch: 1 [0/60000 (0%)]\tLoss: 2.310538\n",
            "Train Epoch: 1 [10240/60000 (17%)]\tLoss: 0.668060\n",
            "Train Epoch: 1 [20480/60000 (34%)]\tLoss: 0.338160\n",
            "Train Epoch: 1 [30720/60000 (51%)]\tLoss: 0.201897\n",
            "Train Epoch: 1 [40960/60000 (68%)]\tLoss: 0.172773\n",
            "Train Epoch: 1 [51200/60000 (85%)]\tLoss: 0.266416\n",
            "\n",
            "Validation set: Average loss: 0.1659, Accuracy: 9520/10000 (95%)\n",
            "\n",
            "Train Epoch: 2 [0/60000 (0%)]\tLoss: 0.259935\n",
            "Train Epoch: 2 [10240/60000 (17%)]\tLoss: 0.072915\n",
            "Train Epoch: 2 [20480/60000 (34%)]\tLoss: 0.126871\n",
            "Train Epoch: 2 [30720/60000 (51%)]\tLoss: 0.108695\n",
            "Train Epoch: 2 [40960/60000 (68%)]\tLoss: 0.064341\n",
            "Train Epoch: 2 [51200/60000 (85%)]\tLoss: 0.103756\n",
            "\n",
            "Validation set: Average loss: 0.0845, Accuracy: 9748/10000 (97%)\n",
            "\n",
            "Train Epoch: 3 [0/60000 (0%)]\tLoss: 0.068747\n",
            "Train Epoch: 3 [10240/60000 (17%)]\tLoss: 0.121206\n",
            "Train Epoch: 3 [20480/60000 (34%)]\tLoss: 0.062644\n",
            "Train Epoch: 3 [30720/60000 (51%)]\tLoss: 0.106595\n",
            "Train Epoch: 3 [40960/60000 (68%)]\tLoss: 0.038277\n",
            "Train Epoch: 3 [51200/60000 (85%)]\tLoss: 0.116417\n",
            "\n",
            "Validation set: Average loss: 0.0652, Accuracy: 9802/10000 (98%)\n",
            "\n",
            "Train Epoch: 4 [0/60000 (0%)]\tLoss: 0.094601\n",
            "Train Epoch: 4 [10240/60000 (17%)]\tLoss: 0.068021\n",
            "Train Epoch: 4 [20480/60000 (34%)]\tLoss: 0.053161\n",
            "Train Epoch: 4 [30720/60000 (51%)]\tLoss: 0.036203\n",
            "Train Epoch: 4 [40960/60000 (68%)]\tLoss: 0.023793\n",
            "Train Epoch: 4 [51200/60000 (85%)]\tLoss: 0.042126\n",
            "\n",
            "Validation set: Average loss: 0.0571, Accuracy: 9830/10000 (98%)\n",
            "\n",
            "Train Epoch: 5 [0/60000 (0%)]\tLoss: 0.015543\n",
            "Train Epoch: 5 [10240/60000 (17%)]\tLoss: 0.071642\n",
            "Train Epoch: 5 [20480/60000 (34%)]\tLoss: 0.020032\n",
            "Train Epoch: 5 [30720/60000 (51%)]\tLoss: 0.118734\n",
            "Train Epoch: 5 [40960/60000 (68%)]\tLoss: 0.080387\n",
            "Train Epoch: 5 [51200/60000 (85%)]\tLoss: 0.091523\n",
            "\n",
            "Validation set: Average loss: 0.0491, Accuracy: 9849/10000 (98%)\n",
            "\n",
            "Train Epoch: 6 [0/60000 (0%)]\tLoss: 0.051693\n",
            "Train Epoch: 6 [10240/60000 (17%)]\tLoss: 0.078013\n",
            "Train Epoch: 6 [20480/60000 (34%)]\tLoss: 0.044603\n",
            "Train Epoch: 6 [30720/60000 (51%)]\tLoss: 0.048670\n",
            "Train Epoch: 6 [40960/60000 (68%)]\tLoss: 0.023378\n",
            "Train Epoch: 6 [51200/60000 (85%)]\tLoss: 0.134226\n",
            "\n",
            "Validation set: Average loss: 0.0398, Accuracy: 9868/10000 (99%)\n",
            "\n",
            "Train Epoch: 7 [0/60000 (0%)]\tLoss: 0.020310\n",
            "Train Epoch: 7 [10240/60000 (17%)]\tLoss: 0.023230\n",
            "Train Epoch: 7 [20480/60000 (34%)]\tLoss: 0.071036\n",
            "Train Epoch: 7 [30720/60000 (51%)]\tLoss: 0.070028\n",
            "Train Epoch: 7 [40960/60000 (68%)]\tLoss: 0.062767\n",
            "Train Epoch: 7 [51200/60000 (85%)]\tLoss: 0.009682\n",
            "\n",
            "Validation set: Average loss: 0.0434, Accuracy: 9848/10000 (98%)\n",
            "\n",
            "Train Epoch: 8 [0/60000 (0%)]\tLoss: 0.013305\n",
            "Train Epoch: 8 [10240/60000 (17%)]\tLoss: 0.043011\n",
            "Train Epoch: 8 [20480/60000 (34%)]\tLoss: 0.049170\n",
            "Train Epoch: 8 [30720/60000 (51%)]\tLoss: 0.039413\n",
            "Train Epoch: 8 [40960/60000 (68%)]\tLoss: 0.037658\n",
            "Train Epoch: 8 [51200/60000 (85%)]\tLoss: 0.036945\n",
            "\n",
            "Validation set: Average loss: 0.0422, Accuracy: 9866/10000 (99%)\n",
            "\n",
            "Train Epoch: 9 [0/60000 (0%)]\tLoss: 0.019100\n",
            "Train Epoch: 9 [10240/60000 (17%)]\tLoss: 0.047510\n",
            "Train Epoch: 9 [20480/60000 (34%)]\tLoss: 0.070675\n",
            "Train Epoch: 9 [30720/60000 (51%)]\tLoss: 0.025711\n",
            "Train Epoch: 9 [40960/60000 (68%)]\tLoss: 0.011402\n",
            "Train Epoch: 9 [51200/60000 (85%)]\tLoss: 0.074006\n",
            "\n",
            "Validation set: Average loss: 0.0357, Accuracy: 9875/10000 (99%)\n",
            "\n",
            "Train Epoch: 10 [0/60000 (0%)]\tLoss: 0.012670\n",
            "Train Epoch: 10 [10240/60000 (17%)]\tLoss: 0.046003\n",
            "Train Epoch: 10 [20480/60000 (34%)]\tLoss: 0.021806\n",
            "Train Epoch: 10 [30720/60000 (51%)]\tLoss: 0.012533\n",
            "Train Epoch: 10 [40960/60000 (68%)]\tLoss: 0.101556\n",
            "Train Epoch: 10 [51200/60000 (85%)]\tLoss: 0.023044\n",
            "\n",
            "Validation set: Average loss: 0.0352, Accuracy: 9888/10000 (99%)\n",
            "\n"
          ],
          "name": "stdout"
        }
      ]
    },
    {
      "cell_type": "code",
      "metadata": {
        "id": "1kj250THvZc9",
        "colab_type": "code",
        "outputId": "ab30c59f-79c3-4ad0-e112-497920b27f12",
        "colab": {
          "base_uri": "https://localhost:8080/",
          "height": 1000
        }
      },
      "source": [
        "model_tanh = Net(F.tanh).to(device)\n",
        "tanh_optimizer = optim.SGD(model_tanh.parameters(), lr=0.01, momentum=0.5)\n",
        "\n",
        "tanh_train_losses = []\n",
        "tanh_valid_losses = []\n",
        "tanh_valid_x = []\n",
        "\n",
        "current_model = model_tanh.function\n",
        "print('Model: {} '.format(current_model.__name__ ))\n",
        "\n",
        "for epoch in range(1, num_epochs + 1):\n",
        "    epoch_losses = train(80, model_tanh, device, train_loader, tanh_optimizer, epoch)\n",
        "    tanh_train_losses.extend(epoch_losses)\n",
        "    valid_loss = validate(model_tanh, device, valid_loader)\n",
        "    tanh_valid_losses.append([valid_loss])\n",
        "    tanh_valid_x.append(len(tanh_train_losses) - 1)\n"
      ],
      "execution_count": 0,
      "outputs": [
        {
          "output_type": "stream",
          "text": [
            "Model: tanh \n",
            "Train Epoch: 1 [0/60000 (0%)]\tLoss: 2.305221\n"
          ],
          "name": "stdout"
        },
        {
          "output_type": "stream",
          "text": [
            "/usr/local/lib/python3.6/dist-packages/torch/nn/functional.py:1340: UserWarning: nn.functional.tanh is deprecated. Use torch.tanh instead.\n",
            "  warnings.warn(\"nn.functional.tanh is deprecated. Use torch.tanh instead.\")\n"
          ],
          "name": "stderr"
        },
        {
          "output_type": "stream",
          "text": [
            "Train Epoch: 1 [10240/60000 (17%)]\tLoss: 1.070244\n",
            "Train Epoch: 1 [20480/60000 (34%)]\tLoss: 0.593080\n",
            "Train Epoch: 1 [30720/60000 (51%)]\tLoss: 0.548571\n",
            "Train Epoch: 1 [40960/60000 (68%)]\tLoss: 0.446894\n",
            "Train Epoch: 1 [51200/60000 (85%)]\tLoss: 0.517301\n",
            "\n",
            "Validation set: Average loss: 0.2742, Accuracy: 9245/10000 (92%)\n",
            "\n",
            "Train Epoch: 2 [0/60000 (0%)]\tLoss: 0.286925\n",
            "Train Epoch: 2 [10240/60000 (17%)]\tLoss: 0.173220\n",
            "Train Epoch: 2 [20480/60000 (34%)]\tLoss: 0.192230\n",
            "Train Epoch: 2 [30720/60000 (51%)]\tLoss: 0.290555\n",
            "Train Epoch: 2 [40960/60000 (68%)]\tLoss: 0.248367\n",
            "Train Epoch: 2 [51200/60000 (85%)]\tLoss: 0.145692\n",
            "\n",
            "Validation set: Average loss: 0.1650, Accuracy: 9530/10000 (95%)\n",
            "\n",
            "Train Epoch: 3 [0/60000 (0%)]\tLoss: 0.103524\n",
            "Train Epoch: 3 [10240/60000 (17%)]\tLoss: 0.204812\n",
            "Train Epoch: 3 [20480/60000 (34%)]\tLoss: 0.124829\n",
            "Train Epoch: 3 [30720/60000 (51%)]\tLoss: 0.126870\n",
            "Train Epoch: 3 [40960/60000 (68%)]\tLoss: 0.116090\n",
            "Train Epoch: 3 [51200/60000 (85%)]\tLoss: 0.140720\n",
            "\n",
            "Validation set: Average loss: 0.1201, Accuracy: 9669/10000 (97%)\n",
            "\n",
            "Train Epoch: 4 [0/60000 (0%)]\tLoss: 0.063425\n",
            "Train Epoch: 4 [10240/60000 (17%)]\tLoss: 0.133313\n",
            "Train Epoch: 4 [20480/60000 (34%)]\tLoss: 0.184412\n",
            "Train Epoch: 4 [30720/60000 (51%)]\tLoss: 0.134918\n",
            "Train Epoch: 4 [40960/60000 (68%)]\tLoss: 0.208802\n",
            "Train Epoch: 4 [51200/60000 (85%)]\tLoss: 0.099594\n",
            "\n",
            "Validation set: Average loss: 0.0949, Accuracy: 9729/10000 (97%)\n",
            "\n",
            "Train Epoch: 5 [0/60000 (0%)]\tLoss: 0.076264\n",
            "Train Epoch: 5 [10240/60000 (17%)]\tLoss: 0.055441\n",
            "Train Epoch: 5 [20480/60000 (34%)]\tLoss: 0.081389\n",
            "Train Epoch: 5 [30720/60000 (51%)]\tLoss: 0.077369\n",
            "Train Epoch: 5 [40960/60000 (68%)]\tLoss: 0.064058\n",
            "Train Epoch: 5 [51200/60000 (85%)]\tLoss: 0.108128\n",
            "\n",
            "Validation set: Average loss: 0.0791, Accuracy: 9773/10000 (98%)\n",
            "\n",
            "Train Epoch: 6 [0/60000 (0%)]\tLoss: 0.054110\n",
            "Train Epoch: 6 [10240/60000 (17%)]\tLoss: 0.146600\n",
            "Train Epoch: 6 [20480/60000 (34%)]\tLoss: 0.100230\n",
            "Train Epoch: 6 [30720/60000 (51%)]\tLoss: 0.077182\n",
            "Train Epoch: 6 [40960/60000 (68%)]\tLoss: 0.035383\n",
            "Train Epoch: 6 [51200/60000 (85%)]\tLoss: 0.038837\n",
            "\n",
            "Validation set: Average loss: 0.0701, Accuracy: 9802/10000 (98%)\n",
            "\n",
            "Train Epoch: 7 [0/60000 (0%)]\tLoss: 0.067874\n",
            "Train Epoch: 7 [10240/60000 (17%)]\tLoss: 0.085219\n",
            "Train Epoch: 7 [20480/60000 (34%)]\tLoss: 0.096559\n",
            "Train Epoch: 7 [30720/60000 (51%)]\tLoss: 0.056057\n",
            "Train Epoch: 7 [40960/60000 (68%)]\tLoss: 0.045891\n",
            "Train Epoch: 7 [51200/60000 (85%)]\tLoss: 0.078933\n",
            "\n",
            "Validation set: Average loss: 0.0620, Accuracy: 9814/10000 (98%)\n",
            "\n",
            "Train Epoch: 8 [0/60000 (0%)]\tLoss: 0.043474\n",
            "Train Epoch: 8 [10240/60000 (17%)]\tLoss: 0.047513\n",
            "Train Epoch: 8 [20480/60000 (34%)]\tLoss: 0.077018\n",
            "Train Epoch: 8 [30720/60000 (51%)]\tLoss: 0.066702\n",
            "Train Epoch: 8 [40960/60000 (68%)]\tLoss: 0.135873\n",
            "Train Epoch: 8 [51200/60000 (85%)]\tLoss: 0.059229\n",
            "\n",
            "Validation set: Average loss: 0.0573, Accuracy: 9833/10000 (98%)\n",
            "\n",
            "Train Epoch: 9 [0/60000 (0%)]\tLoss: 0.043937\n",
            "Train Epoch: 9 [10240/60000 (17%)]\tLoss: 0.093207\n",
            "Train Epoch: 9 [20480/60000 (34%)]\tLoss: 0.066382\n",
            "Train Epoch: 9 [30720/60000 (51%)]\tLoss: 0.044539\n",
            "Train Epoch: 9 [40960/60000 (68%)]\tLoss: 0.050716\n",
            "Train Epoch: 9 [51200/60000 (85%)]\tLoss: 0.054771\n",
            "\n",
            "Validation set: Average loss: 0.0532, Accuracy: 9835/10000 (98%)\n",
            "\n",
            "Train Epoch: 10 [0/60000 (0%)]\tLoss: 0.051704\n",
            "Train Epoch: 10 [10240/60000 (17%)]\tLoss: 0.037654\n",
            "Train Epoch: 10 [20480/60000 (34%)]\tLoss: 0.060298\n",
            "Train Epoch: 10 [30720/60000 (51%)]\tLoss: 0.032180\n",
            "Train Epoch: 10 [40960/60000 (68%)]\tLoss: 0.084509\n",
            "Train Epoch: 10 [51200/60000 (85%)]\tLoss: 0.055838\n",
            "\n",
            "Validation set: Average loss: 0.0496, Accuracy: 9853/10000 (99%)\n",
            "\n"
          ],
          "name": "stdout"
        }
      ]
    },
    {
      "cell_type": "code",
      "metadata": {
        "id": "tM0ZMk6HwFTH",
        "colab_type": "code",
        "outputId": "6445a3e4-41b7-4070-91dd-6c660918d6c1",
        "colab": {
          "base_uri": "https://localhost:8080/",
          "height": 1000
        }
      },
      "source": [
        "model_sigmoid = Net(F.sigmoid).to(device)\n",
        "sigmoid_optimizer = optim.SGD(model_sigmoid.parameters(), lr=0.01, momentum=0.5)\n",
        "\n",
        "sigmoid_train_losses = []\n",
        "sigmoid_valid_losses = []\n",
        "sigmoid_valid_x = []\n",
        "\n",
        "current_model = model_sigmoid.function\n",
        "print('Model: {} '.format(current_model.__name__ ))\n",
        "\n",
        "for epoch in range(1, num_epochs + 1):\n",
        "    epoch_losses = train(80, model_sigmoid, device, train_loader, sigmoid_optimizer, epoch)\n",
        "    sigmoid_train_losses.extend(epoch_losses)\n",
        "    valid_loss = validate(model_sigmoid, device, valid_loader)\n",
        "    sigmoid_valid_losses.append([valid_loss])\n",
        "    sigmoid_valid_x.append(len(sigmoid_train_losses) - 1)"
      ],
      "execution_count": 0,
      "outputs": [
        {
          "output_type": "stream",
          "text": [
            "Model: sigmoid \n",
            "Train Epoch: 1 [0/60000 (0%)]\tLoss: 2.326779\n"
          ],
          "name": "stdout"
        },
        {
          "output_type": "stream",
          "text": [
            "/usr/local/lib/python3.6/dist-packages/torch/nn/functional.py:1351: UserWarning: nn.functional.sigmoid is deprecated. Use torch.sigmoid instead.\n",
            "  warnings.warn(\"nn.functional.sigmoid is deprecated. Use torch.sigmoid instead.\")\n"
          ],
          "name": "stderr"
        },
        {
          "output_type": "stream",
          "text": [
            "Train Epoch: 1 [10240/60000 (17%)]\tLoss: 2.312123\n",
            "Train Epoch: 1 [20480/60000 (34%)]\tLoss: 2.302871\n",
            "Train Epoch: 1 [30720/60000 (51%)]\tLoss: 2.288994\n",
            "Train Epoch: 1 [40960/60000 (68%)]\tLoss: 2.309948\n",
            "Train Epoch: 1 [51200/60000 (85%)]\tLoss: 2.306192\n",
            "\n",
            "Validation set: Average loss: 2.3055, Accuracy: 1028/10000 (10%)\n",
            "\n",
            "Train Epoch: 2 [0/60000 (0%)]\tLoss: 2.299519\n",
            "Train Epoch: 2 [10240/60000 (17%)]\tLoss: 2.294286\n",
            "Train Epoch: 2 [20480/60000 (34%)]\tLoss: 2.301955\n",
            "Train Epoch: 2 [30720/60000 (51%)]\tLoss: 2.294662\n",
            "Train Epoch: 2 [40960/60000 (68%)]\tLoss: 2.309907\n",
            "Train Epoch: 2 [51200/60000 (85%)]\tLoss: 2.306187\n",
            "\n",
            "Validation set: Average loss: 2.3016, Accuracy: 1028/10000 (10%)\n",
            "\n",
            "Train Epoch: 3 [0/60000 (0%)]\tLoss: 2.304775\n",
            "Train Epoch: 3 [10240/60000 (17%)]\tLoss: 2.303675\n",
            "Train Epoch: 3 [20480/60000 (34%)]\tLoss: 2.304843\n",
            "Train Epoch: 3 [30720/60000 (51%)]\tLoss: 2.293220\n",
            "Train Epoch: 3 [40960/60000 (68%)]\tLoss: 2.287586\n",
            "Train Epoch: 3 [51200/60000 (85%)]\tLoss: 2.275386\n",
            "\n",
            "Validation set: Average loss: 2.2909, Accuracy: 1202/10000 (12%)\n",
            "\n",
            "Train Epoch: 4 [0/60000 (0%)]\tLoss: 2.289710\n",
            "Train Epoch: 4 [10240/60000 (17%)]\tLoss: 2.286405\n",
            "Train Epoch: 4 [20480/60000 (34%)]\tLoss: 2.311367\n",
            "Train Epoch: 4 [30720/60000 (51%)]\tLoss: 2.292076\n",
            "Train Epoch: 4 [40960/60000 (68%)]\tLoss: 2.295232\n",
            "Train Epoch: 4 [51200/60000 (85%)]\tLoss: 2.272945\n",
            "\n",
            "Validation set: Average loss: 2.2747, Accuracy: 1009/10000 (10%)\n",
            "\n",
            "Train Epoch: 5 [0/60000 (0%)]\tLoss: 2.270425\n",
            "Train Epoch: 5 [10240/60000 (17%)]\tLoss: 2.272014\n",
            "Train Epoch: 5 [20480/60000 (34%)]\tLoss: 2.249907\n",
            "Train Epoch: 5 [30720/60000 (51%)]\tLoss: 2.265023\n",
            "Train Epoch: 5 [40960/60000 (68%)]\tLoss: 2.238015\n",
            "Train Epoch: 5 [51200/60000 (85%)]\tLoss: 2.214776\n",
            "\n",
            "Validation set: Average loss: 2.1939, Accuracy: 3558/10000 (36%)\n",
            "\n",
            "Train Epoch: 6 [0/60000 (0%)]\tLoss: 2.198480\n",
            "Train Epoch: 6 [10240/60000 (17%)]\tLoss: 2.176469\n",
            "Train Epoch: 6 [20480/60000 (34%)]\tLoss: 2.156110\n",
            "Train Epoch: 6 [30720/60000 (51%)]\tLoss: 2.081791\n",
            "Train Epoch: 6 [40960/60000 (68%)]\tLoss: 1.974225\n",
            "Train Epoch: 6 [51200/60000 (85%)]\tLoss: 1.868468\n",
            "\n",
            "Validation set: Average loss: 1.8081, Accuracy: 5406/10000 (54%)\n",
            "\n",
            "Train Epoch: 7 [0/60000 (0%)]\tLoss: 1.770244\n",
            "Train Epoch: 7 [10240/60000 (17%)]\tLoss: 1.761045\n",
            "Train Epoch: 7 [20480/60000 (34%)]\tLoss: 1.510977\n",
            "Train Epoch: 7 [30720/60000 (51%)]\tLoss: 1.465585\n",
            "Train Epoch: 7 [40960/60000 (68%)]\tLoss: 1.358863\n",
            "Train Epoch: 7 [51200/60000 (85%)]\tLoss: 1.272998\n",
            "\n",
            "Validation set: Average loss: 1.1444, Accuracy: 7435/10000 (74%)\n",
            "\n",
            "Train Epoch: 8 [0/60000 (0%)]\tLoss: 1.036258\n",
            "Train Epoch: 8 [10240/60000 (17%)]\tLoss: 1.075395\n",
            "Train Epoch: 8 [20480/60000 (34%)]\tLoss: 0.994887\n",
            "Train Epoch: 8 [30720/60000 (51%)]\tLoss: 0.938935\n",
            "Train Epoch: 8 [40960/60000 (68%)]\tLoss: 0.804940\n",
            "Train Epoch: 8 [51200/60000 (85%)]\tLoss: 0.778535\n",
            "\n",
            "Validation set: Average loss: 0.7558, Accuracy: 8058/10000 (81%)\n",
            "\n",
            "Train Epoch: 9 [0/60000 (0%)]\tLoss: 0.703224\n",
            "Train Epoch: 9 [10240/60000 (17%)]\tLoss: 0.749648\n",
            "Train Epoch: 9 [20480/60000 (34%)]\tLoss: 0.664535\n",
            "Train Epoch: 9 [30720/60000 (51%)]\tLoss: 0.674006\n",
            "Train Epoch: 9 [40960/60000 (68%)]\tLoss: 0.586613\n",
            "Train Epoch: 9 [51200/60000 (85%)]\tLoss: 0.613114\n",
            "\n",
            "Validation set: Average loss: 0.5913, Accuracy: 8365/10000 (84%)\n",
            "\n",
            "Train Epoch: 10 [0/60000 (0%)]\tLoss: 0.509429\n",
            "Train Epoch: 10 [10240/60000 (17%)]\tLoss: 0.526837\n",
            "Train Epoch: 10 [20480/60000 (34%)]\tLoss: 0.569747\n",
            "Train Epoch: 10 [30720/60000 (51%)]\tLoss: 0.604138\n",
            "Train Epoch: 10 [40960/60000 (68%)]\tLoss: 0.545917\n",
            "Train Epoch: 10 [51200/60000 (85%)]\tLoss: 0.545415\n",
            "\n",
            "Validation set: Average loss: 0.4993, Accuracy: 8593/10000 (86%)\n",
            "\n"
          ],
          "name": "stdout"
        }
      ]
    },
    {
      "cell_type": "code",
      "metadata": {
        "id": "hC0RpnOL1Tqg",
        "colab_type": "code",
        "outputId": "9c7ce82f-956b-40bc-e9cb-0c05cabf2b9c",
        "colab": {
          "base_uri": "https://localhost:8080/",
          "height": 1000
        }
      },
      "source": [
        "model_leaky_relu = Net(F.leaky_relu).to(device)\n",
        "leaky_relu_optimizer = optim.SGD(model_leaky_relu.parameters(), lr=0.01, momentum=0.5)\n",
        "\n",
        "leaky_relu_train_losses = []\n",
        "leaky_relu_valid_losses = []\n",
        "leaky_relu_valid_x = []\n",
        "\n",
        "current_model = model_leaky_relu.function\n",
        "print('Model: {} '.format(current_model.__name__ ))\n",
        "\n",
        "for epoch in range(1, num_epochs + 1):\n",
        "    epoch_losses = train(80, model_leaky_relu, device, train_loader, leaky_relu_optimizer, epoch)\n",
        "    leaky_relu_train_losses.extend(epoch_losses)\n",
        "    valid_loss = validate(model_leaky_relu, device, valid_loader)\n",
        "    leaky_relu_valid_losses.append([valid_loss])\n",
        "    leaky_relu_valid_x.append(len(leaky_relu_train_losses) - 1)"
      ],
      "execution_count": 0,
      "outputs": [
        {
          "output_type": "stream",
          "text": [
            "Model: leaky_relu \n",
            "Train Epoch: 1 [0/60000 (0%)]\tLoss: 2.322947\n",
            "Train Epoch: 1 [10240/60000 (17%)]\tLoss: 0.702037\n",
            "Train Epoch: 1 [20480/60000 (34%)]\tLoss: 0.303816\n",
            "Train Epoch: 1 [30720/60000 (51%)]\tLoss: 0.315757\n",
            "Train Epoch: 1 [40960/60000 (68%)]\tLoss: 0.250831\n",
            "Train Epoch: 1 [51200/60000 (85%)]\tLoss: 0.174199\n",
            "\n",
            "Validation set: Average loss: 0.1662, Accuracy: 9518/10000 (95%)\n",
            "\n",
            "Train Epoch: 2 [0/60000 (0%)]\tLoss: 0.177581\n",
            "Train Epoch: 2 [10240/60000 (17%)]\tLoss: 0.144131\n",
            "Train Epoch: 2 [20480/60000 (34%)]\tLoss: 0.178704\n",
            "Train Epoch: 2 [30720/60000 (51%)]\tLoss: 0.092833\n",
            "Train Epoch: 2 [40960/60000 (68%)]\tLoss: 0.162245\n",
            "Train Epoch: 2 [51200/60000 (85%)]\tLoss: 0.075166\n",
            "\n",
            "Validation set: Average loss: 0.0897, Accuracy: 9735/10000 (97%)\n",
            "\n",
            "Train Epoch: 3 [0/60000 (0%)]\tLoss: 0.229853\n",
            "Train Epoch: 3 [10240/60000 (17%)]\tLoss: 0.082200\n",
            "Train Epoch: 3 [20480/60000 (34%)]\tLoss: 0.082630\n",
            "Train Epoch: 3 [30720/60000 (51%)]\tLoss: 0.094291\n",
            "Train Epoch: 3 [40960/60000 (68%)]\tLoss: 0.084522\n",
            "Train Epoch: 3 [51200/60000 (85%)]\tLoss: 0.072953\n",
            "\n",
            "Validation set: Average loss: 0.0658, Accuracy: 9795/10000 (98%)\n",
            "\n",
            "Train Epoch: 4 [0/60000 (0%)]\tLoss: 0.030110\n",
            "Train Epoch: 4 [10240/60000 (17%)]\tLoss: 0.076268\n",
            "Train Epoch: 4 [20480/60000 (34%)]\tLoss: 0.155266\n",
            "Train Epoch: 4 [30720/60000 (51%)]\tLoss: 0.045218\n",
            "Train Epoch: 4 [40960/60000 (68%)]\tLoss: 0.108997\n",
            "Train Epoch: 4 [51200/60000 (85%)]\tLoss: 0.152650\n",
            "\n",
            "Validation set: Average loss: 0.0601, Accuracy: 9810/10000 (98%)\n",
            "\n",
            "Train Epoch: 5 [0/60000 (0%)]\tLoss: 0.066314\n",
            "Train Epoch: 5 [10240/60000 (17%)]\tLoss: 0.094772\n",
            "Train Epoch: 5 [20480/60000 (34%)]\tLoss: 0.076542\n",
            "Train Epoch: 5 [30720/60000 (51%)]\tLoss: 0.024297\n",
            "Train Epoch: 5 [40960/60000 (68%)]\tLoss: 0.077710\n",
            "Train Epoch: 5 [51200/60000 (85%)]\tLoss: 0.100857\n",
            "\n",
            "Validation set: Average loss: 0.0476, Accuracy: 9854/10000 (99%)\n",
            "\n",
            "Train Epoch: 6 [0/60000 (0%)]\tLoss: 0.043550\n",
            "Train Epoch: 6 [10240/60000 (17%)]\tLoss: 0.060686\n",
            "Train Epoch: 6 [20480/60000 (34%)]\tLoss: 0.042797\n",
            "Train Epoch: 6 [30720/60000 (51%)]\tLoss: 0.033113\n",
            "Train Epoch: 6 [40960/60000 (68%)]\tLoss: 0.047448\n",
            "Train Epoch: 6 [51200/60000 (85%)]\tLoss: 0.038032\n",
            "\n",
            "Validation set: Average loss: 0.0569, Accuracy: 9816/10000 (98%)\n",
            "\n",
            "Train Epoch: 7 [0/60000 (0%)]\tLoss: 0.054323\n",
            "Train Epoch: 7 [10240/60000 (17%)]\tLoss: 0.055106\n",
            "Train Epoch: 7 [20480/60000 (34%)]\tLoss: 0.074460\n",
            "Train Epoch: 7 [30720/60000 (51%)]\tLoss: 0.014358\n",
            "Train Epoch: 7 [40960/60000 (68%)]\tLoss: 0.027015\n",
            "Train Epoch: 7 [51200/60000 (85%)]\tLoss: 0.034458\n",
            "\n",
            "Validation set: Average loss: 0.0453, Accuracy: 9866/10000 (99%)\n",
            "\n",
            "Train Epoch: 8 [0/60000 (0%)]\tLoss: 0.105314\n",
            "Train Epoch: 8 [10240/60000 (17%)]\tLoss: 0.056644\n",
            "Train Epoch: 8 [20480/60000 (34%)]\tLoss: 0.026569\n",
            "Train Epoch: 8 [30720/60000 (51%)]\tLoss: 0.031917\n",
            "Train Epoch: 8 [40960/60000 (68%)]\tLoss: 0.032023\n",
            "Train Epoch: 8 [51200/60000 (85%)]\tLoss: 0.026877\n",
            "\n",
            "Validation set: Average loss: 0.0403, Accuracy: 9860/10000 (99%)\n",
            "\n",
            "Train Epoch: 9 [0/60000 (0%)]\tLoss: 0.051949\n",
            "Train Epoch: 9 [10240/60000 (17%)]\tLoss: 0.070161\n",
            "Train Epoch: 9 [20480/60000 (34%)]\tLoss: 0.033539\n",
            "Train Epoch: 9 [30720/60000 (51%)]\tLoss: 0.043423\n",
            "Train Epoch: 9 [40960/60000 (68%)]\tLoss: 0.068694\n",
            "Train Epoch: 9 [51200/60000 (85%)]\tLoss: 0.030226\n",
            "\n",
            "Validation set: Average loss: 0.0355, Accuracy: 9869/10000 (99%)\n",
            "\n",
            "Train Epoch: 10 [0/60000 (0%)]\tLoss: 0.057554\n",
            "Train Epoch: 10 [10240/60000 (17%)]\tLoss: 0.047527\n",
            "Train Epoch: 10 [20480/60000 (34%)]\tLoss: 0.015315\n",
            "Train Epoch: 10 [30720/60000 (51%)]\tLoss: 0.025025\n",
            "Train Epoch: 10 [40960/60000 (68%)]\tLoss: 0.046371\n",
            "Train Epoch: 10 [51200/60000 (85%)]\tLoss: 0.028880\n",
            "\n",
            "Validation set: Average loss: 0.0367, Accuracy: 9877/10000 (99%)\n",
            "\n"
          ],
          "name": "stdout"
        }
      ]
    },
    {
      "cell_type": "code",
      "metadata": {
        "id": "azzB82ammWP6",
        "colab_type": "code",
        "outputId": "b81cb29c-23b5-4bf9-901f-712c2eb41389",
        "colab": {
          "base_uri": "https://localhost:8080/",
          "height": 513
        }
      },
      "source": [
        "plt.gcf().clear()\n",
        "plt.plot(ReLU_train_losses, 'b-')\n",
        "plt.plot(tanh_train_losses, 'g-')\n",
        "plt.show()\n",
        "plt.plot(sigmoid_train_losses, 'y-')\n",
        "plt.plot(leaky_relu_train_losses, 'k-')\n",
        "plt.show()"
      ],
      "execution_count": 0,
      "outputs": [
        {
          "output_type": "display_data",
          "data": {
            "image/png": "[encoded data removed]",
            "text/plain": [
              "<Figure size 432x288 with 1 Axes>"
            ]
          },
          "metadata": {
            "tags": []
          }
        },
        {
          "output_type": "display_data",
          "data": {
            "image/png": "[encoded data removed]",
            "text/plain": [
              "<Figure size 432x288 with 1 Axes>"
            ]
          },
          "metadata": {
            "tags": []
          }
        }
      ]
    },
    {
      "cell_type": "code",
      "metadata": {
        "id": "-I7bYzxG6bgL",
        "colab_type": "code",
        "outputId": "baae4989-ecd4-425e-eb82-97f95019aabc",
        "colab": {
          "base_uri": "https://localhost:8080/",
          "height": 265
        }
      },
      "source": [
        "plt.gcf().clear()\n",
        "plt.plot(ReLU_valid_x, ReLU_valid_losses, 'b-')\n",
        "plt.plot(tanh_valid_x, tanh_valid_losses, 'g-')\n",
        "plt.plot(sigmoid_valid_x, sigmoid_valid_losses, 'y-')\n",
        "plt.plot(leaky_relu_valid_x, leaky_relu_valid_losses, 'k-')\n",
        "plt.show()"
      ],
      "execution_count": 0,
      "outputs": [
        {
          "output_type": "display_data",
          "data": {
            "image/png": "[encoded data removed]",
            "text/plain": [
              "<Figure size 432x288 with 1 Axes>"
            ]
          },
          "metadata": {
            "tags": []
          }
        }
      ]
    },
    {
      "cell_type": "markdown",
      "metadata": {
        "id": "EVCi9YNJACBP",
        "colab_type": "text"
      },
      "source": [
        "Conclusion:\n",
        "\n",
        "We can easily appreciate that the sigmoid function is the less efficient in this situation. It has a minor convergence rate and, with this number of epochs, it doesn’t reach the accuracy level of the other three functions. \n",
        "\n",
        "We can barely differentiate both ReLu functions from tanh, those behave similarly. Moreover, no difference can be appreciated between ReLu and leakyReLu, given that the vanishing gradient isn’t a problem in this neuronal network and leaky ReLu is designed to correct this issue.\n"
      ]
    }
  ]
}