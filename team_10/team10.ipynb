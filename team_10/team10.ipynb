{
  "nbformat": 4,
  "nbformat_minor": 0,
  "metadata": {
    "colab": {
      "name": "Project.ipynb",
      "provenance": [],
      "collapsed_sections": [],
      "toc_visible": true
    },
    "kernelspec": {
      "name": "python3",
      "display_name": "Python 3"
    },
    "accelerator": "GPU"
  },
  "cells": [
    {
      "cell_type": "markdown",
      "metadata": {
        "id": "LjQ-UFLHno9F",
        "colab_type": "text"
      },
      "source": [
        "# HYPERPARAMETERS: Type of pooling\n",
        "In this document the implementation of different pooling methods will be discussed. The different pooling methods used are the following:\n",
        "\n",
        "*   Maximum\n",
        "*   Average\n",
        "*   Nothing\n",
        "\n",
        "The additions to the code provided are explained in the code itself.\n",
        "\n",
        "\n",
        "\n",
        "\n",
        "\n",
        "\n",
        "\n",
        "\n",
        "\n"
      ]
    },
    {
      "cell_type": "code",
      "metadata": {
        "id": "Jn5vra55moKC",
        "colab_type": "code",
        "outputId": "8997d6d1-2043-43c7-d6ce-849ac6a667e0",
        "colab": {
          "base_uri": "https://localhost:8080/",
          "height": 595
        }
      },
      "source": [
        "!pip install pillow==5.4.1\n",
        "!pip install matplotlib\n",
        "!pip install scikit-learn\n",
        "!pip install torch\n",
        "!pip install torchvision\n",
        "# The tabulate library is used to show the final results\n",
        "!pip install tabulate"
      ],
      "execution_count": 1,
      "outputs": [
        {
          "output_type": "stream",
          "text": [
            "Collecting pillow==5.4.1\n",
            "\u001b[?25l  Downloading https://files.pythonhosted.org/packages/85/5e/e91792f198bbc5a0d7d3055ad552bc4062942d27eaf75c3e2783cf64eae5/Pillow-5.4.1-cp36-cp36m-manylinux1_x86_64.whl (2.0MB)\n",
            "\u001b[K     |████████████████████████████████| 2.0MB 3.4MB/s \n",
            "\u001b[31mERROR: albumentations 0.1.12 has requirement imgaug<0.2.7,>=0.2.5, but you'll have imgaug 0.2.9 which is incompatible.\u001b[0m\n",
            "\u001b[?25hInstalling collected packages: pillow\n",
            "  Found existing installation: Pillow 6.2.2\n",
            "    Uninstalling Pillow-6.2.2:\n",
            "      Successfully uninstalled Pillow-6.2.2\n",
            "Successfully installed pillow-5.4.1\n"
          ],
          "name": "stdout"
        },
        {
          "output_type": "display_data",
          "data": {
            "application/vnd.colab-display-data+json": {
              "pip_warning": {
                "packages": [
                  "PIL"
                ]
              }
            }
          },
          "metadata": {
            "tags": []
          }
        },
        {
          "output_type": "stream",
          "text": [
            "Requirement already satisfied: matplotlib in /usr/local/lib/python3.6/dist-packages (3.1.2)\n",
            "Requirement already satisfied: cycler>=0.10 in /usr/local/lib/python3.6/dist-packages (from matplotlib) (0.10.0)\n",
            "Requirement already satisfied: numpy>=1.11 in /usr/local/lib/python3.6/dist-packages (from matplotlib) (1.17.5)\n",
            "Requirement already satisfied: pyparsing!=2.0.4,!=2.1.2,!=2.1.6,>=2.0.1 in /usr/local/lib/python3.6/dist-packages (from matplotlib) (2.4.6)\n",
            "Requirement already satisfied: python-dateutil>=2.1 in /usr/local/lib/python3.6/dist-packages (from matplotlib) (2.6.1)\n",
            "Requirement already satisfied: kiwisolver>=1.0.1 in /usr/local/lib/python3.6/dist-packages (from matplotlib) (1.1.0)\n",
            "Requirement already satisfied: six in /usr/local/lib/python3.6/dist-packages (from cycler>=0.10->matplotlib) (1.12.0)\n",
            "Requirement already satisfied: setuptools in /usr/local/lib/python3.6/dist-packages (from kiwisolver>=1.0.1->matplotlib) (42.0.2)\n",
            "Requirement already satisfied: scikit-learn in /usr/local/lib/python3.6/dist-packages (0.22.1)\n",
            "Requirement already satisfied: scipy>=0.17.0 in /usr/local/lib/python3.6/dist-packages (from scikit-learn) (1.4.1)\n",
            "Requirement already satisfied: numpy>=1.11.0 in /usr/local/lib/python3.6/dist-packages (from scikit-learn) (1.17.5)\n",
            "Requirement already satisfied: joblib>=0.11 in /usr/local/lib/python3.6/dist-packages (from scikit-learn) (0.14.1)\n",
            "Requirement already satisfied: torch in /usr/local/lib/python3.6/dist-packages (1.3.1)\n",
            "Requirement already satisfied: numpy in /usr/local/lib/python3.6/dist-packages (from torch) (1.17.5)\n",
            "Requirement already satisfied: torchvision in /usr/local/lib/python3.6/dist-packages (0.4.2)\n",
            "Requirement already satisfied: numpy in /usr/local/lib/python3.6/dist-packages (from torchvision) (1.17.5)\n",
            "Requirement already satisfied: six in /usr/local/lib/python3.6/dist-packages (from torchvision) (1.12.0)\n",
            "Requirement already satisfied: torch==1.3.1 in /usr/local/lib/python3.6/dist-packages (from torchvision) (1.3.1)\n",
            "Requirement already satisfied: pillow>=4.1.1 in /usr/local/lib/python3.6/dist-packages (from torchvision) (5.4.1)\n",
            "Requirement already satisfied: tabulate in /usr/local/lib/python3.6/dist-packages (0.8.6)\n"
          ],
          "name": "stdout"
        }
      ]
    },
    {
      "cell_type": "code",
      "metadata": {
        "id": "5pNXx9mHDCt_",
        "colab_type": "code",
        "colab": {}
      },
      "source": [
        "import matplotlib.pyplot as plt\n",
        "import numpy as np\n",
        "import random\n",
        "import torch\n",
        "import torch.nn as nn \n",
        "import torch.nn.functional as F\n",
        "import torch.optim as optim\n",
        "from torchvision import datasets, transforms\n",
        "from tabulate import tabulate"
      ],
      "execution_count": 0,
      "outputs": []
    },
    {
      "cell_type": "code",
      "metadata": {
        "id": "gXWeTcVsDEE0",
        "colab_type": "code",
        "colab": {}
      },
      "source": [
        "seed = 20\n",
        "torch.manual_seed(seed)\n",
        "torch.backends.cudnn.deterministic = True\n",
        "torch.backends.cudnn.benchmark = False\n",
        "np.random.seed(seed)\n",
        "random.seed(seed)"
      ],
      "execution_count": 0,
      "outputs": []
    },
    {
      "cell_type": "code",
      "metadata": {
        "id": "3eSWZubf_jD2",
        "colab_type": "code",
        "colab": {}
      },
      "source": [
        "class Net(nn.Module):\n",
        "    # We change the constructor of this class in order to allow different types of pooling\n",
        "    def __init__(self, pooling_type): \n",
        "        super(Net, self).__init__()\n",
        "        self.conv1 = nn.Conv2d(1, 20, 5, 1)\n",
        "        self.conv2 = nn.Conv2d(20, 50, 5, 1)\n",
        "        self.fc1 = nn.Linear(4*4*50, 500)\n",
        "        self.fc1Nth = nn.Linear(20*20*50, 500) # In the case of no pooling a different layer must be used because the input size is different\n",
        "        self.fc2 = nn.Linear(500, 10)\n",
        "        self.pooling_type = pooling_type\n",
        "\n",
        "    def forward(self, x):\n",
        "        x = F.relu(self.conv1(x))\n",
        "        \n",
        "        if(self.pooling_type == \"max\"):\n",
        "          x = F.max_pool2d(x, 2, 2)\n",
        "          x = F.relu(self.conv2(x))\n",
        "          x = F.max_pool2d(x, 2, 2)\n",
        "          x = x.view(-1, 4*4*50)\n",
        "          x = F.relu(self.fc1(x))\n",
        "\n",
        "        elif(self.pooling_type == \"avg\"):\n",
        "          x = F.avg_pool2d(x, 2, 2)\n",
        "          x = F.relu(self.conv2(x))\n",
        "          x = F.avg_pool2d(x, 2, 2)\n",
        "          x = x.view(-1, 4*4*50)\n",
        "          x = F.relu(self.fc1(x))\n",
        "        else:\n",
        "          x = F.relu(self.conv2(x))\n",
        "          x = x.view(-1, 20*20*50)\n",
        "          x = F.relu(self.fc1Nth(x))\n",
        "        \n",
        "        x = self.fc2(x)\n",
        "        return F.log_softmax(x, dim=1)"
      ],
      "execution_count": 0,
      "outputs": []
    },
    {
      "cell_type": "code",
      "metadata": {
        "id": "wlh75VbdLtLh",
        "colab_type": "code",
        "colab": {}
      },
      "source": [
        "def train(log_interval, model, device, train_loader, optimizer, epoch):\n",
        "    losses = []\n",
        "    model.train()\n",
        "    \n",
        "    for batch_idx, (data, target) in enumerate(train_loader): \n",
        "        data, target = data.to(device), target.to(device)\n",
        "        optimizer.zero_grad()\n",
        "        output = model(data)\n",
        "        loss = F.nll_loss(output, target) \n",
        "        loss.backward()\n",
        "        optimizer.step()\n",
        "        losses.append(loss.item())\n",
        "        if batch_idx % log_interval == 0:\n",
        "            print('Train Epoch: {} [{}/{} ({:.0f}%)]\\tLoss: {:.6f}'.format(\n",
        "                epoch, batch_idx * len(data), len(train_loader.dataset),\n",
        "                100. * batch_idx / len(train_loader), loss.item()))\n",
        "    return losses"
      ],
      "execution_count": 0,
      "outputs": []
    },
    {
      "cell_type": "code",
      "metadata": {
        "id": "cCYX74TPLyeF",
        "colab_type": "code",
        "colab": {}
      },
      "source": [
        "def validate(model, device, loader):\n",
        "    \n",
        "    model.eval()  # let's put the model in evaluation mode\n",
        "\n",
        "    validation_loss = 0\n",
        "    correct = 0\n",
        "    \n",
        "    with torch.no_grad():  # we don't need gradient computation at all\n",
        "        for data, target in loader:\n",
        "            data, target = data.to(device), target.to(device)\n",
        "            output = model(data)\n",
        "            validation_loss += F.nll_loss(output, target, reduction='sum').item() # sum up batch loss\n",
        "            pred = output.argmax(dim=1, keepdim=True) # get the index of the max log-probability\n",
        "            correct += pred.eq(target.view_as(pred)).sum().item()\n",
        "\n",
        "    validation_loss /= len(loader.dataset)\n",
        "    validation_accuracy = 100. * correct / len(loader.dataset)\n",
        "    print('\\nValidation set: Average loss: {:.4f}, Accuracy: {}/{} ({:.2f}%)\\n'.format(\n",
        "        validation_loss, correct, len(loader.dataset),\n",
        "        validation_accuracy))\n",
        "    \n",
        "    return validation_loss, validation_accuracy"
      ],
      "execution_count": 0,
      "outputs": []
    },
    {
      "cell_type": "code",
      "metadata": {
        "id": "cNeCkJVsLzIc",
        "colab_type": "code",
        "colab": {
          "base_uri": "https://localhost:8080/",
          "height": 255
        },
        "outputId": "03599732-79d8-4840-fbf0-ca2314367b84"
      },
      "source": [
        "train_batch_size = 128\n",
        "\n",
        "mnist_mean = 0.1307\n",
        "mnist_stddev = 0.3081\n",
        "train_loader = torch.utils.data.DataLoader(\n",
        "    datasets.MNIST('./data',\n",
        "                   train=True,\n",
        "                   download=True,\n",
        "                   transform=transforms.Compose([\n",
        "                       transforms.ToTensor(),\n",
        "                       transforms.Normalize((mnist_mean,), (mnist_stddev,))\n",
        "                   ])),\n",
        "    batch_size=train_batch_size,\n",
        "    shuffle=True)\n",
        "\n",
        "valid_batch_size = 1000\n",
        "valid_loader = torch.utils.data.DataLoader(\n",
        "    datasets.MNIST('./data',\n",
        "                   train=False,\n",
        "                   transform=transforms.Compose([\n",
        "                       transforms.ToTensor(),\n",
        "                       transforms.Normalize((mnist_mean,), (mnist_stddev,))\n",
        "                   ])),\n",
        "    batch_size=valid_batch_size,\n",
        "    shuffle=True)"
      ],
      "execution_count": 7,
      "outputs": [
        {
          "output_type": "stream",
          "text": [
            "  0%|          | 0/9912422 [00:00<?, ?it/s]"
          ],
          "name": "stderr"
        },
        {
          "output_type": "stream",
          "text": [
            "Downloading http://yann.lecun.com/exdb/mnist/train-images-idx3-ubyte.gz to ./data/MNIST/raw/train-images-idx3-ubyte.gz\n"
          ],
          "name": "stdout"
        },
        {
          "output_type": "stream",
          "text": [
            "9920512it [00:00, 20198287.22it/s]                            \n"
          ],
          "name": "stderr"
        },
        {
          "output_type": "stream",
          "text": [
            "Extracting ./data/MNIST/raw/train-images-idx3-ubyte.gz to ./data/MNIST/raw\n"
          ],
          "name": "stdout"
        },
        {
          "output_type": "stream",
          "text": [
            "32768it [00:00, 313950.99it/s]                           \n",
            "0it [00:00, ?it/s]"
          ],
          "name": "stderr"
        },
        {
          "output_type": "stream",
          "text": [
            "Downloading http://yann.lecun.com/exdb/mnist/train-labels-idx1-ubyte.gz to ./data/MNIST/raw/train-labels-idx1-ubyte.gz\n",
            "Extracting ./data/MNIST/raw/train-labels-idx1-ubyte.gz to ./data/MNIST/raw\n",
            "Downloading http://yann.lecun.com/exdb/mnist/t10k-images-idx3-ubyte.gz to ./data/MNIST/raw/t10k-images-idx3-ubyte.gz\n"
          ],
          "name": "stdout"
        },
        {
          "output_type": "stream",
          "text": [
            "1654784it [00:00, 5705702.15it/s]                           \n",
            "8192it [00:00, 128136.74it/s]\n"
          ],
          "name": "stderr"
        },
        {
          "output_type": "stream",
          "text": [
            "Extracting ./data/MNIST/raw/t10k-images-idx3-ubyte.gz to ./data/MNIST/raw\n",
            "Downloading http://yann.lecun.com/exdb/mnist/t10k-labels-idx1-ubyte.gz to ./data/MNIST/raw/t10k-labels-idx1-ubyte.gz\n",
            "Extracting ./data/MNIST/raw/t10k-labels-idx1-ubyte.gz to ./data/MNIST/raw\n",
            "Processing...\n",
            "Done!\n"
          ],
          "name": "stdout"
        }
      ]
    },
    {
      "cell_type": "code",
      "metadata": {
        "id": "8bnP0eUfG_kr",
        "colab_type": "code",
        "colab": {}
      },
      "source": [
        "def train_net(type, device):\n",
        "  train_losses = []\n",
        "  valid_losses = []\n",
        "  valid_x = []\n",
        "  valid_accuracy = []\n",
        "  # A new model is used for each pooling method\n",
        "  model = Net(type).to(device)\n",
        "  optimizer = optim.SGD(model.parameters(), lr=0.01, momentum=0.5)\n",
        "\n",
        "\n",
        "  print('\\x1b[1;31m'+'\\n\\tType of pooling: {}\\t'.format(type)+'\\033[0;30m')\n",
        "  for epoch in range(1, num_epochs + 1):\n",
        "      epoch_losses = train(80, model, device, train_loader, optimizer, epoch)\n",
        "      train_losses.extend(epoch_losses)\n",
        "      valid_loss, valid_acc = validate(model, device, valid_loader)\n",
        "      valid_losses.append([valid_loss])\n",
        "      valid_accuracy.append(valid_acc)\n",
        "      valid_x.append(len(train_losses) - 1)\n",
        "      \n",
        "\n",
        "  plt.gcf().clear()\n",
        "  plt.plot(train_losses, 'b-')\n",
        "  plt.plot(valid_x, valid_losses, 'r-')\n",
        "  plt.show()\n",
        "  # In this implementation we also want to see the validation accuracy\n",
        "  return valid_accuracy"
      ],
      "execution_count": 0,
      "outputs": []
    },
    {
      "cell_type": "code",
      "metadata": {
        "id": "xIc5k23nMlA5",
        "colab_type": "code",
        "outputId": "fd7777e8-d1b7-4f39-f972-b4516d22e682",
        "colab": {
          "base_uri": "https://localhost:8080/",
          "height": 1000
        }
      },
      "source": [
        "device = torch.device(\"cuda:0\" if torch.cuda.is_available() else \"cpu\")\n",
        "num_epochs = 10\n",
        "\n",
        "\n",
        "pooling = [\"max\",\"avg\",\"nothing\"]\n",
        "trainloss={\"max\":[\"Maximum\"], \"avg\":[\"Average\"], \"nothing\":[\"Nothing\"]}\n",
        "\n",
        "# We run three training sessions, one for each pooling method\n",
        "for type in pooling:\n",
        "  trainloss[type].extend(train_net(type, device))\n",
        "\n",
        "print(\"\\n\")\n",
        "print(tabulate([trainloss[\"max\"], trainloss[\"avg\"], trainloss[\"nothing\"]], [\"Epoch\", 1, 2, 3, 4, 5, 6, 7, 8, 9, 10]))\n"
      ],
      "execution_count": 9,
      "outputs": [
        {
          "output_type": "stream",
          "text": [
            "\u001b[1;31m\n",
            "\tType of pooling: max\t\u001b[0;30m\n",
            "Train Epoch: 1 [0/60000 (0%)]\tLoss: 2.282498\n",
            "Train Epoch: 1 [10240/60000 (17%)]\tLoss: 0.580224\n",
            "Train Epoch: 1 [20480/60000 (34%)]\tLoss: 0.342452\n",
            "Train Epoch: 1 [30720/60000 (51%)]\tLoss: 0.185716\n",
            "Train Epoch: 1 [40960/60000 (68%)]\tLoss: 0.370162\n",
            "Train Epoch: 1 [51200/60000 (85%)]\tLoss: 0.124976\n",
            "\n",
            "Validation set: Average loss: 0.1525, Accuracy: 9552/10000 (95.52%)\n",
            "\n",
            "Train Epoch: 2 [0/60000 (0%)]\tLoss: 0.218684\n",
            "Train Epoch: 2 [10240/60000 (17%)]\tLoss: 0.102962\n",
            "Train Epoch: 2 [20480/60000 (34%)]\tLoss: 0.162518\n",
            "Train Epoch: 2 [30720/60000 (51%)]\tLoss: 0.123956\n",
            "Train Epoch: 2 [40960/60000 (68%)]\tLoss: 0.197738\n",
            "Train Epoch: 2 [51200/60000 (85%)]\tLoss: 0.097816\n",
            "\n",
            "Validation set: Average loss: 0.0896, Accuracy: 9730/10000 (97.30%)\n",
            "\n",
            "Train Epoch: 3 [0/60000 (0%)]\tLoss: 0.096523\n",
            "Train Epoch: 3 [10240/60000 (17%)]\tLoss: 0.130213\n",
            "Train Epoch: 3 [20480/60000 (34%)]\tLoss: 0.050417\n",
            "Train Epoch: 3 [30720/60000 (51%)]\tLoss: 0.084786\n",
            "Train Epoch: 3 [40960/60000 (68%)]\tLoss: 0.167129\n",
            "Train Epoch: 3 [51200/60000 (85%)]\tLoss: 0.052888\n",
            "\n",
            "Validation set: Average loss: 0.0760, Accuracy: 9768/10000 (97.68%)\n",
            "\n",
            "Train Epoch: 4 [0/60000 (0%)]\tLoss: 0.077061\n",
            "Train Epoch: 4 [10240/60000 (17%)]\tLoss: 0.063681\n",
            "Train Epoch: 4 [20480/60000 (34%)]\tLoss: 0.105777\n",
            "Train Epoch: 4 [30720/60000 (51%)]\tLoss: 0.039258\n",
            "Train Epoch: 4 [40960/60000 (68%)]\tLoss: 0.196056\n",
            "Train Epoch: 4 [51200/60000 (85%)]\tLoss: 0.102639\n",
            "\n",
            "Validation set: Average loss: 0.0558, Accuracy: 9834/10000 (98.34%)\n",
            "\n",
            "Train Epoch: 5 [0/60000 (0%)]\tLoss: 0.041470\n",
            "Train Epoch: 5 [10240/60000 (17%)]\tLoss: 0.042136\n",
            "Train Epoch: 5 [20480/60000 (34%)]\tLoss: 0.020163\n",
            "Train Epoch: 5 [30720/60000 (51%)]\tLoss: 0.019046\n",
            "Train Epoch: 5 [40960/60000 (68%)]\tLoss: 0.044770\n",
            "Train Epoch: 5 [51200/60000 (85%)]\tLoss: 0.062086\n",
            "\n",
            "Validation set: Average loss: 0.0446, Accuracy: 9863/10000 (98.63%)\n",
            "\n",
            "Train Epoch: 6 [0/60000 (0%)]\tLoss: 0.044542\n",
            "Train Epoch: 6 [10240/60000 (17%)]\tLoss: 0.059256\n",
            "Train Epoch: 6 [20480/60000 (34%)]\tLoss: 0.072020\n",
            "Train Epoch: 6 [30720/60000 (51%)]\tLoss: 0.031629\n",
            "Train Epoch: 6 [40960/60000 (68%)]\tLoss: 0.070338\n",
            "Train Epoch: 6 [51200/60000 (85%)]\tLoss: 0.007051\n",
            "\n",
            "Validation set: Average loss: 0.0421, Accuracy: 9861/10000 (98.61%)\n",
            "\n",
            "Train Epoch: 7 [0/60000 (0%)]\tLoss: 0.107570\n",
            "Train Epoch: 7 [10240/60000 (17%)]\tLoss: 0.036944\n",
            "Train Epoch: 7 [20480/60000 (34%)]\tLoss: 0.017619\n",
            "Train Epoch: 7 [30720/60000 (51%)]\tLoss: 0.021304\n",
            "Train Epoch: 7 [40960/60000 (68%)]\tLoss: 0.046205\n",
            "Train Epoch: 7 [51200/60000 (85%)]\tLoss: 0.046184\n",
            "\n",
            "Validation set: Average loss: 0.0420, Accuracy: 9857/10000 (98.57%)\n",
            "\n",
            "Train Epoch: 8 [0/60000 (0%)]\tLoss: 0.062659\n",
            "Train Epoch: 8 [10240/60000 (17%)]\tLoss: 0.025202\n",
            "Train Epoch: 8 [20480/60000 (34%)]\tLoss: 0.009975\n",
            "Train Epoch: 8 [30720/60000 (51%)]\tLoss: 0.071738\n",
            "Train Epoch: 8 [40960/60000 (68%)]\tLoss: 0.039334\n",
            "Train Epoch: 8 [51200/60000 (85%)]\tLoss: 0.063274\n",
            "\n",
            "Validation set: Average loss: 0.0371, Accuracy: 9874/10000 (98.74%)\n",
            "\n",
            "Train Epoch: 9 [0/60000 (0%)]\tLoss: 0.028470\n",
            "Train Epoch: 9 [10240/60000 (17%)]\tLoss: 0.008107\n",
            "Train Epoch: 9 [20480/60000 (34%)]\tLoss: 0.024914\n",
            "Train Epoch: 9 [30720/60000 (51%)]\tLoss: 0.055921\n",
            "Train Epoch: 9 [40960/60000 (68%)]\tLoss: 0.016580\n",
            "Train Epoch: 9 [51200/60000 (85%)]\tLoss: 0.032137\n",
            "\n",
            "Validation set: Average loss: 0.0367, Accuracy: 9882/10000 (98.82%)\n",
            "\n",
            "Train Epoch: 10 [0/60000 (0%)]\tLoss: 0.016958\n",
            "Train Epoch: 10 [10240/60000 (17%)]\tLoss: 0.015414\n",
            "Train Epoch: 10 [20480/60000 (34%)]\tLoss: 0.017946\n",
            "Train Epoch: 10 [30720/60000 (51%)]\tLoss: 0.025788\n",
            "Train Epoch: 10 [40960/60000 (68%)]\tLoss: 0.017550\n",
            "Train Epoch: 10 [51200/60000 (85%)]\tLoss: 0.027381\n",
            "\n",
            "Validation set: Average loss: 0.0348, Accuracy: 9879/10000 (98.79%)\n",
            "\n"
          ],
          "name": "stdout"
        },
        {
          "output_type": "display_data",
          "data": {
            "image/png": "[encoded data removed]",
            "text/plain": [
              "<Figure size 432x288 with 1 Axes>"
            ]
          },
          "metadata": {
            "tags": []
          }
        },
        {
          "output_type": "stream",
          "text": [
            "\u001b[1;31m\n",
            "\tType of pooling: avg\t\u001b[0;30m\n",
            "Train Epoch: 1 [0/60000 (0%)]\tLoss: 2.298285\n",
            "Train Epoch: 1 [10240/60000 (17%)]\tLoss: 1.674862\n",
            "Train Epoch: 1 [20480/60000 (34%)]\tLoss: 0.517735\n",
            "Train Epoch: 1 [30720/60000 (51%)]\tLoss: 0.500943\n",
            "Train Epoch: 1 [40960/60000 (68%)]\tLoss: 0.520862\n",
            "Train Epoch: 1 [51200/60000 (85%)]\tLoss: 0.424348\n",
            "\n",
            "Validation set: Average loss: 0.2901, Accuracy: 9167/10000 (91.67%)\n",
            "\n",
            "Train Epoch: 2 [0/60000 (0%)]\tLoss: 0.288438\n",
            "Train Epoch: 2 [10240/60000 (17%)]\tLoss: 0.242042\n",
            "Train Epoch: 2 [20480/60000 (34%)]\tLoss: 0.244201\n",
            "Train Epoch: 2 [30720/60000 (51%)]\tLoss: 0.187071\n",
            "Train Epoch: 2 [40960/60000 (68%)]\tLoss: 0.162587\n",
            "Train Epoch: 2 [51200/60000 (85%)]\tLoss: 0.170735\n",
            "\n",
            "Validation set: Average loss: 0.1810, Accuracy: 9474/10000 (94.74%)\n",
            "\n",
            "Train Epoch: 3 [0/60000 (0%)]\tLoss: 0.201878\n",
            "Train Epoch: 3 [10240/60000 (17%)]\tLoss: 0.146500\n",
            "Train Epoch: 3 [20480/60000 (34%)]\tLoss: 0.216832\n",
            "Train Epoch: 3 [30720/60000 (51%)]\tLoss: 0.183188\n",
            "Train Epoch: 3 [40960/60000 (68%)]\tLoss: 0.174220\n",
            "Train Epoch: 3 [51200/60000 (85%)]\tLoss: 0.127725\n",
            "\n",
            "Validation set: Average loss: 0.1212, Accuracy: 9630/10000 (96.30%)\n",
            "\n",
            "Train Epoch: 4 [0/60000 (0%)]\tLoss: 0.118692\n",
            "Train Epoch: 4 [10240/60000 (17%)]\tLoss: 0.198436\n",
            "Train Epoch: 4 [20480/60000 (34%)]\tLoss: 0.064642\n",
            "Train Epoch: 4 [30720/60000 (51%)]\tLoss: 0.168044\n",
            "Train Epoch: 4 [40960/60000 (68%)]\tLoss: 0.114237\n",
            "Train Epoch: 4 [51200/60000 (85%)]\tLoss: 0.053252\n",
            "\n",
            "Validation set: Average loss: 0.1017, Accuracy: 9698/10000 (96.98%)\n",
            "\n",
            "Train Epoch: 5 [0/60000 (0%)]\tLoss: 0.087161\n",
            "Train Epoch: 5 [10240/60000 (17%)]\tLoss: 0.151842\n",
            "Train Epoch: 5 [20480/60000 (34%)]\tLoss: 0.064758\n",
            "Train Epoch: 5 [30720/60000 (51%)]\tLoss: 0.098014\n",
            "Train Epoch: 5 [40960/60000 (68%)]\tLoss: 0.152751\n",
            "Train Epoch: 5 [51200/60000 (85%)]\tLoss: 0.053566\n",
            "\n",
            "Validation set: Average loss: 0.0875, Accuracy: 9728/10000 (97.28%)\n",
            "\n",
            "Train Epoch: 6 [0/60000 (0%)]\tLoss: 0.085328\n",
            "Train Epoch: 6 [10240/60000 (17%)]\tLoss: 0.042851\n",
            "Train Epoch: 6 [20480/60000 (34%)]\tLoss: 0.111327\n",
            "Train Epoch: 6 [30720/60000 (51%)]\tLoss: 0.162070\n",
            "Train Epoch: 6 [40960/60000 (68%)]\tLoss: 0.164608\n",
            "Train Epoch: 6 [51200/60000 (85%)]\tLoss: 0.081260\n",
            "\n",
            "Validation set: Average loss: 0.0707, Accuracy: 9777/10000 (97.77%)\n",
            "\n",
            "Train Epoch: 7 [0/60000 (0%)]\tLoss: 0.059669\n",
            "Train Epoch: 7 [10240/60000 (17%)]\tLoss: 0.094000\n",
            "Train Epoch: 7 [20480/60000 (34%)]\tLoss: 0.095746\n",
            "Train Epoch: 7 [30720/60000 (51%)]\tLoss: 0.094006\n",
            "Train Epoch: 7 [40960/60000 (68%)]\tLoss: 0.043522\n",
            "Train Epoch: 7 [51200/60000 (85%)]\tLoss: 0.056348\n",
            "\n",
            "Validation set: Average loss: 0.0609, Accuracy: 9810/10000 (98.10%)\n",
            "\n",
            "Train Epoch: 8 [0/60000 (0%)]\tLoss: 0.087900\n",
            "Train Epoch: 8 [10240/60000 (17%)]\tLoss: 0.029155\n",
            "Train Epoch: 8 [20480/60000 (34%)]\tLoss: 0.097568\n",
            "Train Epoch: 8 [30720/60000 (51%)]\tLoss: 0.050673\n",
            "Train Epoch: 8 [40960/60000 (68%)]\tLoss: 0.019374\n",
            "Train Epoch: 8 [51200/60000 (85%)]\tLoss: 0.101975\n",
            "\n",
            "Validation set: Average loss: 0.0642, Accuracy: 9785/10000 (97.85%)\n",
            "\n",
            "Train Epoch: 9 [0/60000 (0%)]\tLoss: 0.035818\n",
            "Train Epoch: 9 [10240/60000 (17%)]\tLoss: 0.026621\n",
            "Train Epoch: 9 [20480/60000 (34%)]\tLoss: 0.081662\n",
            "Train Epoch: 9 [30720/60000 (51%)]\tLoss: 0.032865\n",
            "Train Epoch: 9 [40960/60000 (68%)]\tLoss: 0.019442\n",
            "Train Epoch: 9 [51200/60000 (85%)]\tLoss: 0.068470\n",
            "\n",
            "Validation set: Average loss: 0.0530, Accuracy: 9828/10000 (98.28%)\n",
            "\n",
            "Train Epoch: 10 [0/60000 (0%)]\tLoss: 0.081105\n",
            "Train Epoch: 10 [10240/60000 (17%)]\tLoss: 0.050589\n",
            "Train Epoch: 10 [20480/60000 (34%)]\tLoss: 0.125196\n",
            "Train Epoch: 10 [30720/60000 (51%)]\tLoss: 0.083968\n",
            "Train Epoch: 10 [40960/60000 (68%)]\tLoss: 0.062989\n",
            "Train Epoch: 10 [51200/60000 (85%)]\tLoss: 0.028525\n",
            "\n",
            "Validation set: Average loss: 0.0491, Accuracy: 9841/10000 (98.41%)\n",
            "\n"
          ],
          "name": "stdout"
        },
        {
          "output_type": "display_data",
          "data": {
            "image/png": "[encoded data removed]",
            "text/plain": [
              "<Figure size 432x288 with 1 Axes>"
            ]
          },
          "metadata": {
            "tags": []
          }
        },
        {
          "output_type": "stream",
          "text": [
            "\u001b[1;31m\n",
            "\tType of pooling: nothing\t\u001b[0;30m\n",
            "Train Epoch: 1 [0/60000 (0%)]\tLoss: 2.301605\n",
            "Train Epoch: 1 [10240/60000 (17%)]\tLoss: 0.405962\n",
            "Train Epoch: 1 [20480/60000 (34%)]\tLoss: 0.295821\n",
            "Train Epoch: 1 [30720/60000 (51%)]\tLoss: 0.171345\n",
            "Train Epoch: 1 [40960/60000 (68%)]\tLoss: 0.159069\n",
            "Train Epoch: 1 [51200/60000 (85%)]\tLoss: 0.148118\n",
            "\n",
            "Validation set: Average loss: 0.1493, Accuracy: 9559/10000 (95.59%)\n",
            "\n",
            "Train Epoch: 2 [0/60000 (0%)]\tLoss: 0.144465\n",
            "Train Epoch: 2 [10240/60000 (17%)]\tLoss: 0.157239\n",
            "Train Epoch: 2 [20480/60000 (34%)]\tLoss: 0.098684\n",
            "Train Epoch: 2 [30720/60000 (51%)]\tLoss: 0.118894\n",
            "Train Epoch: 2 [40960/60000 (68%)]\tLoss: 0.156791\n",
            "Train Epoch: 2 [51200/60000 (85%)]\tLoss: 0.060789\n",
            "\n",
            "Validation set: Average loss: 0.0848, Accuracy: 9748/10000 (97.48%)\n",
            "\n",
            "Train Epoch: 3 [0/60000 (0%)]\tLoss: 0.054326\n",
            "Train Epoch: 3 [10240/60000 (17%)]\tLoss: 0.061708\n",
            "Train Epoch: 3 [20480/60000 (34%)]\tLoss: 0.053018\n",
            "Train Epoch: 3 [30720/60000 (51%)]\tLoss: 0.015360\n",
            "Train Epoch: 3 [40960/60000 (68%)]\tLoss: 0.105324\n",
            "Train Epoch: 3 [51200/60000 (85%)]\tLoss: 0.103563\n",
            "\n",
            "Validation set: Average loss: 0.0722, Accuracy: 9778/10000 (97.78%)\n",
            "\n",
            "Train Epoch: 4 [0/60000 (0%)]\tLoss: 0.033077\n",
            "Train Epoch: 4 [10240/60000 (17%)]\tLoss: 0.045535\n",
            "Train Epoch: 4 [20480/60000 (34%)]\tLoss: 0.045950\n",
            "Train Epoch: 4 [30720/60000 (51%)]\tLoss: 0.126351\n",
            "Train Epoch: 4 [40960/60000 (68%)]\tLoss: 0.041132\n",
            "Train Epoch: 4 [51200/60000 (85%)]\tLoss: 0.048753\n",
            "\n",
            "Validation set: Average loss: 0.0573, Accuracy: 9824/10000 (98.24%)\n",
            "\n",
            "Train Epoch: 5 [0/60000 (0%)]\tLoss: 0.078528\n",
            "Train Epoch: 5 [10240/60000 (17%)]\tLoss: 0.035960\n",
            "Train Epoch: 5 [20480/60000 (34%)]\tLoss: 0.010452\n",
            "Train Epoch: 5 [30720/60000 (51%)]\tLoss: 0.073396\n",
            "Train Epoch: 5 [40960/60000 (68%)]\tLoss: 0.027948\n",
            "Train Epoch: 5 [51200/60000 (85%)]\tLoss: 0.060708\n",
            "\n",
            "Validation set: Average loss: 0.0504, Accuracy: 9846/10000 (98.46%)\n",
            "\n",
            "Train Epoch: 6 [0/60000 (0%)]\tLoss: 0.040386\n",
            "Train Epoch: 6 [10240/60000 (17%)]\tLoss: 0.042318\n",
            "Train Epoch: 6 [20480/60000 (34%)]\tLoss: 0.012185\n",
            "Train Epoch: 6 [30720/60000 (51%)]\tLoss: 0.048920\n",
            "Train Epoch: 6 [40960/60000 (68%)]\tLoss: 0.016695\n",
            "Train Epoch: 6 [51200/60000 (85%)]\tLoss: 0.028414\n",
            "\n",
            "Validation set: Average loss: 0.0488, Accuracy: 9836/10000 (98.36%)\n",
            "\n",
            "Train Epoch: 7 [0/60000 (0%)]\tLoss: 0.025257\n",
            "Train Epoch: 7 [10240/60000 (17%)]\tLoss: 0.011809\n",
            "Train Epoch: 7 [20480/60000 (34%)]\tLoss: 0.005535\n",
            "Train Epoch: 7 [30720/60000 (51%)]\tLoss: 0.025226\n",
            "Train Epoch: 7 [40960/60000 (68%)]\tLoss: 0.041300\n",
            "Train Epoch: 7 [51200/60000 (85%)]\tLoss: 0.064156\n",
            "\n",
            "Validation set: Average loss: 0.0469, Accuracy: 9853/10000 (98.53%)\n",
            "\n",
            "Train Epoch: 8 [0/60000 (0%)]\tLoss: 0.031488\n",
            "Train Epoch: 8 [10240/60000 (17%)]\tLoss: 0.023113\n",
            "Train Epoch: 8 [20480/60000 (34%)]\tLoss: 0.006330\n",
            "Train Epoch: 8 [30720/60000 (51%)]\tLoss: 0.027420\n",
            "Train Epoch: 8 [40960/60000 (68%)]\tLoss: 0.030179\n",
            "Train Epoch: 8 [51200/60000 (85%)]\tLoss: 0.024068\n",
            "\n",
            "Validation set: Average loss: 0.0427, Accuracy: 9862/10000 (98.62%)\n",
            "\n",
            "Train Epoch: 9 [0/60000 (0%)]\tLoss: 0.009756\n",
            "Train Epoch: 9 [10240/60000 (17%)]\tLoss: 0.006981\n",
            "Train Epoch: 9 [20480/60000 (34%)]\tLoss: 0.006000\n",
            "Train Epoch: 9 [30720/60000 (51%)]\tLoss: 0.014592\n",
            "Train Epoch: 9 [40960/60000 (68%)]\tLoss: 0.010897\n",
            "Train Epoch: 9 [51200/60000 (85%)]\tLoss: 0.032782\n",
            "\n",
            "Validation set: Average loss: 0.0415, Accuracy: 9862/10000 (98.62%)\n",
            "\n",
            "Train Epoch: 10 [0/60000 (0%)]\tLoss: 0.022577\n",
            "Train Epoch: 10 [10240/60000 (17%)]\tLoss: 0.001068\n",
            "Train Epoch: 10 [20480/60000 (34%)]\tLoss: 0.001378\n",
            "Train Epoch: 10 [30720/60000 (51%)]\tLoss: 0.016538\n",
            "Train Epoch: 10 [40960/60000 (68%)]\tLoss: 0.040535\n",
            "Train Epoch: 10 [51200/60000 (85%)]\tLoss: 0.032910\n",
            "\n",
            "Validation set: Average loss: 0.0392, Accuracy: 9868/10000 (98.68%)\n",
            "\n"
          ],
          "name": "stdout"
        },
        {
          "output_type": "display_data",
          "data": {
            "image/png": "[encoded data removed]",
            "text/plain": [
              "<Figure size 432x288 with 1 Axes>"
            ]
          },
          "metadata": {
            "tags": []
          }
        },
        {
          "output_type": "stream",
          "text": [
            "\n",
            "\n",
            "Epoch        1      2      3      4      5      6      7      8      9     10\n",
            "-------  -----  -----  -----  -----  -----  -----  -----  -----  -----  -----\n",
            "Maximum  95.52  97.3   97.68  98.34  98.63  98.61  98.57  98.74  98.82  98.79\n",
            "Average  91.67  94.74  96.3   96.98  97.28  97.77  98.1   97.85  98.28  98.41\n",
            "Nothing  95.59  97.48  97.78  98.24  98.46  98.36  98.53  98.62  98.62  98.68\n"
          ],
          "name": "stdout"
        }
      ]
    },
    {
      "cell_type": "markdown",
      "metadata": {
        "id": "IOwxa7m6_pu8",
        "colab_type": "text"
      },
      "source": [
        "#Conclusions\n",
        "After running the experiment, it can be concluded that the best pooling method is, with the dataset provided, the Maximum-Pooling. This shows that the higher value elements are more important than the rest of the values. This can also be seen looking at the average pooling method. With this method a lower accuracy and a higher loss is obtained. This is beacuse it takes every value into account with the same importance (so the maximum value has less importance than before). Finally without using pooling, the accuracy rate and loss obtained is in between the previous two pooling methods. This method would also require more computational capacity because no pooling is used and it works with more samples."
      ]
    }
  ]
}