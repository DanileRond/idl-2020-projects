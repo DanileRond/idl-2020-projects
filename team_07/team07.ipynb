{
  "nbformat": 4,
  "nbformat_minor": 0,
  "metadata": {
    "colab": {
      "name": "team07.ipynb",
      "provenance": []
    },
    "kernelspec": {
      "name": "python3",
      "display_name": "Python 3"
    },
    "accelerator": "GPU"
  },
  "cells": [
    {
      "cell_type": "code",
      "metadata": {
        "id": "yvNfNq94RHRU",
        "colab_type": "code",
        "colab": {
          "base_uri": "https://localhost:8080/",
          "height": 357
        },
        "outputId": "e21a27f2-7813-4c4f-f12b-d3880c2f169c"
      },
      "source": [
        "!pip install pillow==5.4.1\n",
        "!pip install matplotlib\n",
        "!pip install scikit-learn\n",
        "!pip install torch\n",
        "!pip install torchvision"
      ],
      "execution_count": 1,
      "outputs": [
        {
          "output_type": "stream",
          "text": [
            "Requirement already satisfied: pillow==5.4.1 in /usr/local/lib/python3.6/dist-packages (5.4.1)\n",
            "Requirement already satisfied: matplotlib in /usr/local/lib/python3.6/dist-packages (3.1.2)\n",
            "Requirement already satisfied: python-dateutil>=2.1 in /usr/local/lib/python3.6/dist-packages (from matplotlib) (2.6.1)\n",
            "Requirement already satisfied: numpy>=1.11 in /usr/local/lib/python3.6/dist-packages (from matplotlib) (1.17.5)\n",
            "Requirement already satisfied: kiwisolver>=1.0.1 in /usr/local/lib/python3.6/dist-packages (from matplotlib) (1.1.0)\n",
            "Requirement already satisfied: pyparsing!=2.0.4,!=2.1.2,!=2.1.6,>=2.0.1 in /usr/local/lib/python3.6/dist-packages (from matplotlib) (2.4.6)\n",
            "Requirement already satisfied: cycler>=0.10 in /usr/local/lib/python3.6/dist-packages (from matplotlib) (0.10.0)\n",
            "Requirement already satisfied: six>=1.5 in /usr/local/lib/python3.6/dist-packages (from python-dateutil>=2.1->matplotlib) (1.12.0)\n",
            "Requirement already satisfied: setuptools in /usr/local/lib/python3.6/dist-packages (from kiwisolver>=1.0.1->matplotlib) (42.0.2)\n",
            "Requirement already satisfied: scikit-learn in /usr/local/lib/python3.6/dist-packages (0.22.1)\n",
            "Requirement already satisfied: joblib>=0.11 in /usr/local/lib/python3.6/dist-packages (from scikit-learn) (0.14.1)\n",
            "Requirement already satisfied: numpy>=1.11.0 in /usr/local/lib/python3.6/dist-packages (from scikit-learn) (1.17.5)\n",
            "Requirement already satisfied: scipy>=0.17.0 in /usr/local/lib/python3.6/dist-packages (from scikit-learn) (1.4.1)\n",
            "Requirement already satisfied: torch in /usr/local/lib/python3.6/dist-packages (1.3.1)\n",
            "Requirement already satisfied: numpy in /usr/local/lib/python3.6/dist-packages (from torch) (1.17.5)\n",
            "Requirement already satisfied: torchvision in /usr/local/lib/python3.6/dist-packages (0.4.2)\n",
            "Requirement already satisfied: numpy in /usr/local/lib/python3.6/dist-packages (from torchvision) (1.17.5)\n",
            "Requirement already satisfied: torch==1.3.1 in /usr/local/lib/python3.6/dist-packages (from torchvision) (1.3.1)\n",
            "Requirement already satisfied: pillow>=4.1.1 in /usr/local/lib/python3.6/dist-packages (from torchvision) (5.4.1)\n",
            "Requirement already satisfied: six in /usr/local/lib/python3.6/dist-packages (from torchvision) (1.12.0)\n"
          ],
          "name": "stdout"
        }
      ]
    },
    {
      "cell_type": "code",
      "metadata": {
        "id": "n20KcR_UKhdD",
        "colab_type": "code",
        "colab": {}
      },
      "source": [
        "import matplotlib.pyplot as plt\n",
        "import numpy as np\n",
        "import random\n",
        "import torch\n",
        "import torch.nn as nn\n",
        "import torch.nn.functional as F\n",
        "import torch.optim as optim\n",
        "from torchvision import datasets, transforms\n",
        "import time"
      ],
      "execution_count": 0,
      "outputs": []
    },
    {
      "cell_type": "code",
      "metadata": {
        "id": "0JfF4H3LLCl6",
        "colab_type": "code",
        "colab": {}
      },
      "source": [
        "seed = 20\n",
        "torch.manual_seed(seed)\n",
        "torch.backends.cudnn.deterministic = True\n",
        "torch.backends.cudnn.benchmark = False\n",
        "np.random.seed(seed)\n",
        "random.seed(seed)"
      ],
      "execution_count": 0,
      "outputs": []
    },
    {
      "cell_type": "code",
      "metadata": {
        "id": "E4HXMa5cSDuY",
        "colab_type": "code",
        "colab": {}
      },
      "source": [
        "class Net(nn.Module):\n",
        "    def __init__(self):\n",
        "        super(Net, self).__init__()\n",
        "        self.conv1 = nn.Conv2d(1, 20, 5, 1)\n",
        "        self.conv2 = nn.Conv2d(20, 50, 5, 1)\n",
        "        self.fc1 = nn.Linear(4*4*50, 500)\n",
        "        self.fc2 = nn.Linear(500, 10)\n",
        "\n",
        "    def forward(self, x):\n",
        "        x = F.relu(self.conv1(x))\n",
        "        x = F.max_pool2d(x, 2, 2)\n",
        "        x = F.relu(self.conv2(x))\n",
        "        x = F.max_pool2d(x, 2, 2)\n",
        "        x = x.view(-1, 4*4*50)\n",
        "        x = F.relu(self.fc1(x))\n",
        "        x = self.fc2(x)\n",
        "        return F.log_softmax(x, dim=1)"
      ],
      "execution_count": 0,
      "outputs": []
    },
    {
      "cell_type": "code",
      "metadata": {
        "id": "t28WkkzTScHd",
        "colab_type": "code",
        "colab": {}
      },
      "source": [
        "def train(log_interval, model, device, train_loader, optimizer, epoch):\n",
        "    losses = []\n",
        "    model.train()\n",
        "    for batch_idx, (data, target) in enumerate(train_loader):\n",
        "        data, target = data.to(device), target.to(device)\n",
        "        optimizer.zero_grad()\n",
        "        output = model(data)\n",
        "        loss = F.nll_loss(output, target)\n",
        "        loss.backward()\n",
        "        optimizer.step()\n",
        "        losses.append(loss.item())\n",
        "        #if batch_idx % log_interval == 0:\n",
        "            #print('Train Epoch: {} [{}/{} ({:.0f}%)]\\tLoss: {:.6f}'.format(\n",
        "                #epoch, batch_idx * len(data), len(train_loader.dataset),\n",
        "                #100. * batch_idx / len(train_loader), loss.item()))\n",
        "    return losses"
      ],
      "execution_count": 0,
      "outputs": []
    },
    {
      "cell_type": "code",
      "metadata": {
        "id": "H-tFOitoSv3U",
        "colab_type": "code",
        "colab": {}
      },
      "source": [
        "def validate(model, device, loader, last_epoch):\n",
        "    \n",
        "    model.eval()  # let's put the model in evaluation mode\n",
        "\n",
        "    validation_loss = 0\n",
        "    correct = 0\n",
        "    \n",
        "    with torch.no_grad():  # we don't need gradient computation at all\n",
        "        for data, target in loader:\n",
        "            data, target = data.to(device), target.to(device)\n",
        "            output = model(data)\n",
        "            validation_loss += F.nll_loss(output, target, reduction='sum').item() # sum up batch loss\n",
        "            pred = output.argmax(dim=1, keepdim=True) # get the index of the max log-probability\n",
        "            correct += pred.eq(target.view_as(pred)).sum().item()\n",
        "\n",
        "    validation_loss /= len(loader.dataset)\n",
        "\n",
        "    if(last_epoch):\n",
        "      print('\\nValidation set: Average loss: {:.4f}, Accuracy: {}/{} ({:.0f}%)\\n'.format(\n",
        "        validation_loss, correct, len(loader.dataset),\n",
        "        100. * correct / len(loader.dataset)))\n",
        "    \n",
        "    return validation_loss"
      ],
      "execution_count": 0,
      "outputs": []
    },
    {
      "cell_type": "code",
      "metadata": {
        "id": "Suk8kex9TGuh",
        "colab_type": "code",
        "colab": {
          "base_uri": "https://localhost:8080/",
          "height": 255
        },
        "outputId": "bad5b2c2-1cb4-4aec-94e7-aef0cb0c3fe8"
      },
      "source": [
        "train_batch_size = 128\n",
        "\n",
        "mnist_mean = 0.1307\n",
        "mnist_stddev = 0.3081\n",
        "train_loader = torch.utils.data.DataLoader(\n",
        "    datasets.MNIST('./data',\n",
        "                   train=True,\n",
        "                   download=True,\n",
        "                   transform=transforms.Compose([\n",
        "                       transforms.ToTensor(),\n",
        "                       transforms.Normalize((mnist_mean,), (mnist_stddev,))\n",
        "                   ])),\n",
        "    batch_size=train_batch_size,\n",
        "    shuffle=True)\n",
        "\n",
        "valid_batch_size = 1000\n",
        "valid_loader = torch.utils.data.DataLoader(\n",
        "    datasets.MNIST('./data',\n",
        "                   train=False,\n",
        "                   transform=transforms.Compose([\n",
        "                       transforms.ToTensor(),\n",
        "                       transforms.Normalize((mnist_mean,), (mnist_stddev,))\n",
        "                   ])),\n",
        "    batch_size=valid_batch_size,\n",
        "    shuffle=True)"
      ],
      "execution_count": 7,
      "outputs": [
        {
          "output_type": "stream",
          "text": [
            "\r0it [00:00, ?it/s]"
          ],
          "name": "stderr"
        },
        {
          "output_type": "stream",
          "text": [
            "Downloading http://yann.lecun.com/exdb/mnist/train-images-idx3-ubyte.gz to ./data/MNIST/raw/train-images-idx3-ubyte.gz\n"
          ],
          "name": "stdout"
        },
        {
          "output_type": "stream",
          "text": [
            "9920512it [00:02, 3916890.71it/s]                             \n"
          ],
          "name": "stderr"
        },
        {
          "output_type": "stream",
          "text": [
            "Extracting ./data/MNIST/raw/train-images-idx3-ubyte.gz to ./data/MNIST/raw\n"
          ],
          "name": "stdout"
        },
        {
          "output_type": "stream",
          "text": [
            "\r0it [00:00, ?it/s]"
          ],
          "name": "stderr"
        },
        {
          "output_type": "stream",
          "text": [
            "Downloading http://yann.lecun.com/exdb/mnist/train-labels-idx1-ubyte.gz to ./data/MNIST/raw/train-labels-idx1-ubyte.gz\n"
          ],
          "name": "stdout"
        },
        {
          "output_type": "stream",
          "text": [
            "32768it [00:00, 56733.67it/s]                           \n",
            "0it [00:00, ?it/s]"
          ],
          "name": "stderr"
        },
        {
          "output_type": "stream",
          "text": [
            "Extracting ./data/MNIST/raw/train-labels-idx1-ubyte.gz to ./data/MNIST/raw\n",
            "Downloading http://yann.lecun.com/exdb/mnist/t10k-images-idx3-ubyte.gz to ./data/MNIST/raw/t10k-images-idx3-ubyte.gz\n"
          ],
          "name": "stdout"
        },
        {
          "output_type": "stream",
          "text": [
            "1654784it [00:01, 974983.01it/s]                             \n",
            "0it [00:00, ?it/s]"
          ],
          "name": "stderr"
        },
        {
          "output_type": "stream",
          "text": [
            "Extracting ./data/MNIST/raw/t10k-images-idx3-ubyte.gz to ./data/MNIST/raw\n",
            "Downloading http://yann.lecun.com/exdb/mnist/t10k-labels-idx1-ubyte.gz to ./data/MNIST/raw/t10k-labels-idx1-ubyte.gz\n"
          ],
          "name": "stdout"
        },
        {
          "output_type": "stream",
          "text": [
            "8192it [00:00, 22069.48it/s]            "
          ],
          "name": "stderr"
        },
        {
          "output_type": "stream",
          "text": [
            "Extracting ./data/MNIST/raw/t10k-labels-idx1-ubyte.gz to ./data/MNIST/raw\n",
            "Processing...\n",
            "Done!\n"
          ],
          "name": "stdout"
        },
        {
          "output_type": "stream",
          "text": [
            "\n"
          ],
          "name": "stderr"
        }
      ]
    },
    {
      "cell_type": "code",
      "metadata": {
        "id": "zwLsJnziTV1y",
        "colab_type": "code",
        "colab": {}
      },
      "source": [
        "def optimization(algorithm, model):\n",
        "  #algorithm 1 is SGD algorithm; algorithm 2 is Adam algorithm; algorithm 3 is rmsprop algorithm;\n",
        "  #Paremeters shared by the algorithms:\n",
        "  LR = 0.01; #0.01 default value\n",
        "  MOMENTUM = 0.5; #0 for rmsprop, Adam not momentum need it. 0.5 default for SGD\n",
        "  EPS = 1e-08;  #1e-08 default value. SGD no need parameter\n",
        "  if algorithm == 1:\n",
        "      #SGD\n",
        "      optimizer = optim.SGD(model.parameters(), lr=0.01, momentum=0.5)\n",
        "      print(\"SGD algorithm\")\n",
        "  elif algorithm == 2:\n",
        "      #Adam\n",
        "      optimizer = optim.Adam(model.parameters(), lr=0.001, betas=(0.9, 0.999), eps=1e-08, weight_decay=0, amsgrad=False)\n",
        "      print(\"Adam algorithm\")\n",
        "  elif algorithm == 3:\n",
        "      #rmsprop\n",
        "      optimizer = optim.RMSprop(model.parameters(), lr=0.01, alpha=0.99, eps=1e-08, weight_decay=0, momentum=0, centered=False)\n",
        "      print(\"RMSprop algorithm\")\n",
        "\n",
        "  return optimizer;"
      ],
      "execution_count": 0,
      "outputs": []
    },
    {
      "cell_type": "code",
      "metadata": {
        "id": "NJeqpZDbT3pA",
        "colab_type": "code",
        "colab": {}
      },
      "source": [
        "def neuronalWorking(i):\n",
        "    device = torch.device(\"cuda:0\" if torch.cuda.is_available() else \"cpu\")\n",
        "    model = Net().to(device)\n",
        "    optimizer = optimization(i, model)\n",
        "\n",
        "    train_losses = []\n",
        "    valid_losses = []\n",
        "    valid_x = []\n",
        "    last_epoch = False\n",
        "    num_epochs = 5\n",
        "    for epoch in range(1, num_epochs + 1):\n",
        "        if(num_epochs == epoch):\n",
        "          last_epoch =  True\n",
        "        epoch_losses = train(80, model, device, train_loader, optimizer, epoch)\n",
        "        train_losses.extend(epoch_losses)\n",
        "        valid_loss = validate(model, device, valid_loader, last_epoch)\n",
        "        valid_losses.append([valid_loss])\n",
        "        valid_x.append(len(train_losses) - 1)\n",
        "\n",
        "    plt.gcf().clear()\n",
        "    plt.plot(train_losses, 'b-')\n",
        "    plt.plot(valid_x, valid_losses, 'r-')\n",
        "    plt.show()\n",
        "\n",
        "    return None"
      ],
      "execution_count": 0,
      "outputs": []
    },
    {
      "cell_type": "code",
      "metadata": {
        "id": "R-v4WiurUEdj",
        "colab_type": "code",
        "colab": {
          "base_uri": "https://localhost:8080/",
          "height": 1000
        },
        "outputId": "4671b141-74e5-4db6-e42e-16ed20454a6f"
      },
      "source": [
        "algorithms = ('SGD','Adam','RMSprop')\n",
        "Loss = []\n",
        "Losses = []\n",
        "for i in range(1,4):\n",
        "  #1 for SGD, 2 for Adam, 3 for rmsprop\n",
        "  start = time.time()\n",
        "  Loss = neuronalWorking(i)\n",
        "  Losses.append([Loss])\n",
        "  end = time.time()\n",
        "  print('Método ejecutado '+algorithms[i-1]+ ' tiempo de ejecución en segundos: ' + str((end-start)))\n",
        "  print('\\n')\n",
        "  print('\\n')"
      ],
      "execution_count": 15,
      "outputs": [
        {
          "output_type": "stream",
          "text": [
            "SGD algorithm\n",
            "\n",
            "Validation set: Average loss: 0.0530, Accuracy: 9824/10000 (98%)\n",
            "\n"
          ],
          "name": "stdout"
        },
        {
          "output_type": "display_data",
          "data": {
            "image/png": "[encoded data removed]",
            "text/plain": [
              "<Figure size 432x288 with 1 Axes>"
            ]
          },
          "metadata": {
            "tags": []
          }
        },
        {
          "output_type": "stream",
          "text": [
            "Método ejecutado SGD tiempo de ejecución en segundos: 43.568702936172485\n",
            "\n",
            "\n",
            "\n",
            "\n",
            "Adam algorithm\n",
            "\n",
            "Validation set: Average loss: 0.0259, Accuracy: 9917/10000 (99%)\n",
            "\n"
          ],
          "name": "stdout"
        },
        {
          "output_type": "display_data",
          "data": {
            "image/png": "[encoded data removed]",
            "text/plain": [
              "<Figure size 432x288 with 1 Axes>"
            ]
          },
          "metadata": {
            "tags": []
          }
        },
        {
          "output_type": "stream",
          "text": [
            "Método ejecutado Adam tiempo de ejecución en segundos: 45.481597661972046\n",
            "\n",
            "\n",
            "\n",
            "\n",
            "RMSprop algorithm\n",
            "\n",
            "Validation set: Average loss: 2.3037, Accuracy: 1028/10000 (10%)\n",
            "\n"
          ],
          "name": "stdout"
        },
        {
          "output_type": "display_data",
          "data": {
            "image/png": "[encoded data removed]",
            "text/plain": [
              "<Figure size 432x288 with 1 Axes>"
            ]
          },
          "metadata": {
            "tags": []
          }
        },
        {
          "output_type": "stream",
          "text": [
            "Método ejecutado RMSprop tiempo de ejecución en segundos: 44.51846766471863\n",
            "\n",
            "\n",
            "\n",
            "\n"
          ],
          "name": "stdout"
        }
      ]
    },
    {
      "cell_type": "markdown",
      "metadata": {
        "id": "VFlyFUf7VcEF",
        "colab_type": "text"
      },
      "source": [
        "As we can see RMSprop didn't work with lr = 0.01 (default value). Let's see with lr = 0.001."
      ]
    },
    {
      "cell_type": "code",
      "metadata": {
        "id": "kvcUBFMOVnnj",
        "colab_type": "code",
        "colab": {}
      },
      "source": [
        "def optimization(algorithm, model):\n",
        "  #algorithm 1 is SGD algorithm; algorithm 2 is Adam algorithm; algorithm 3 is rmsprop algorithm;\n",
        "  #Paremeters shared by the algorithms:\n",
        "  LR = 0.01; #0.01 default value\n",
        "  MOMENTUM = 0.5; #0 for rmsprop, Adam not momentum need it. 0.5 default for SGD\n",
        "  EPS = 1e-08;  #1e-08 default value. SGD no need parameter\n",
        "  if algorithm == 1:\n",
        "      #SGD\n",
        "      optimizer = optim.SGD(model.parameters(), lr=0.01, momentum=0.5)\n",
        "      print(\"SGD algorithm\")\n",
        "  elif algorithm == 2:\n",
        "      #Adam\n",
        "      optimizer = optim.Adam(model.parameters(), lr=0.001, betas=(0.9, 0.999), eps=1e-08, weight_decay=0, amsgrad=False)\n",
        "      print(\"Adam algorithm\")\n",
        "  elif algorithm == 3:\n",
        "      #rmsprop\n",
        "      optimizer = optim.RMSprop(model.parameters(), lr=0.001, alpha=0.99, eps=1e-08, weight_decay=0, momentum=0, centered=False)\n",
        "      print(\"RMSprop algorithm\")\n",
        "\n",
        "  return optimizer;"
      ],
      "execution_count": 0,
      "outputs": []
    },
    {
      "cell_type": "code",
      "metadata": {
        "id": "rDWL9XAmW2u-",
        "colab_type": "code",
        "colab": {
          "base_uri": "https://localhost:8080/",
          "height": 1000
        },
        "outputId": "5f2fc2f2-3584-4fbe-9f5e-ab177aa28f9a"
      },
      "source": [
        "algorithms = ('SGD','Adam','RMSprop')\n",
        "Loss = []\n",
        "Losses = []\n",
        "for i in range(1,4):\n",
        "  #1 for SGD, 2 for Adam, 3 for rmsprop\n",
        "  start = time.time()\n",
        "  Loss = neuronalWorking(i)\n",
        "  Losses.append([Loss])\n",
        "  end = time.time()\n",
        "  print('Método ejecutado '+algorithms[i-1]+ ' tiempo de ejecución en segundos: ' + str((end-start)))\n",
        "  print('\\n')\n",
        "  print('\\n')"
      ],
      "execution_count": 17,
      "outputs": [
        {
          "output_type": "stream",
          "text": [
            "SGD algorithm\n",
            "\n",
            "Validation set: Average loss: 0.0465, Accuracy: 9854/10000 (99%)\n",
            "\n"
          ],
          "name": "stdout"
        },
        {
          "output_type": "display_data",
          "data": {
            "image/png": "[encoded data removed]",
            "text/plain": [
              "<Figure size 432x288 with 1 Axes>"
            ]
          },
          "metadata": {
            "tags": []
          }
        },
        {
          "output_type": "stream",
          "text": [
            "Método ejecutado SGD tiempo de ejecución en segundos: 43.97734785079956\n",
            "\n",
            "\n",
            "\n",
            "\n",
            "Adam algorithm\n",
            "\n",
            "Validation set: Average loss: 0.0281, Accuracy: 9908/10000 (99%)\n",
            "\n"
          ],
          "name": "stdout"
        },
        {
          "output_type": "display_data",
          "data": {
            "image/png": "[encoded data removed]",
            "text/plain": [
              "<Figure size 432x288 with 1 Axes>"
            ]
          },
          "metadata": {
            "tags": []
          }
        },
        {
          "output_type": "stream",
          "text": [
            "Método ejecutado Adam tiempo de ejecución en segundos: 44.511252641677856\n",
            "\n",
            "\n",
            "\n",
            "\n",
            "RMSprop algorithm\n",
            "\n",
            "Validation set: Average loss: 0.0407, Accuracy: 9886/10000 (99%)\n",
            "\n"
          ],
          "name": "stdout"
        },
        {
          "output_type": "display_data",
          "data": {
            "image/png": "[encoded data removed]",
            "text/plain": [
              "<Figure size 432x288 with 1 Axes>"
            ]
          },
          "metadata": {
            "tags": []
          }
        },
        {
          "output_type": "stream",
          "text": [
            "Método ejecutado RMSprop tiempo de ejecución en segundos: 43.11914420127869\n",
            "\n",
            "\n",
            "\n",
            "\n"
          ],
          "name": "stdout"
        }
      ]
    },
    {
      "cell_type": "markdown",
      "metadata": {
        "id": "jPHhijfEXjol",
        "colab_type": "text"
      },
      "source": [
        "Now we see RMSprop has the best performance due to time spent and loss. Adam has better accuracy than RMSprop but is more noisy and spends more time than others."
      ]
    },
    {
      "cell_type": "markdown",
      "metadata": {
        "id": "KOlv8bIeZbrJ",
        "colab_type": "text"
      },
      "source": [
        "Let's see what happen if we increase momentum on SGD and RMSprop to 0.9"
      ]
    },
    {
      "cell_type": "code",
      "metadata": {
        "id": "ZmYLdOfFZwHn",
        "colab_type": "code",
        "colab": {}
      },
      "source": [
        "def optimization(algorithm, model):\n",
        "  #algorithm 1 is SGD algorithm; algorithm 2 is Adam algorithm; algorithm 3 is rmsprop algorithm;\n",
        "  #Paremeters shared by the algorithms:\n",
        "  LR = 0.01; #0.01 default value\n",
        "  MOMENTUM = 0.5; #0 for rmsprop, Adam not momentum need it. 0.5 default for SGD\n",
        "  EPS = 1e-08;  #1e-08 default value. SGD no need parameter\n",
        "  if algorithm == 1:\n",
        "      #SGD\n",
        "      optimizer = optim.SGD(model.parameters(), lr=0.01, momentum=0.9)\n",
        "      print(\"SGD algorithm\")\n",
        "  elif algorithm == 2:\n",
        "      #Adam\n",
        "      optimizer = optim.Adam(model.parameters(), lr=0.001, betas=(0.9, 0.999), eps=1e-08, weight_decay=0, amsgrad=False)\n",
        "      print(\"Adam algorithm\")\n",
        "  elif algorithm == 3:\n",
        "      #rmsprop\n",
        "      optimizer = optim.RMSprop(model.parameters(), lr=0.001, alpha=0.99, eps=1e-08, weight_decay=0, momentum=0.9, centered=False)\n",
        "      print(\"RMSprop algorithm\")\n",
        "\n",
        "  return optimizer;"
      ],
      "execution_count": 0,
      "outputs": []
    },
    {
      "cell_type": "code",
      "metadata": {
        "id": "a-PK3qZlZ2Sw",
        "colab_type": "code",
        "colab": {
          "base_uri": "https://localhost:8080/",
          "height": 1000
        },
        "outputId": "4da507a7-53ab-4f65-a4fa-3f9f9e930d90"
      },
      "source": [
        "algorithms = ('SGD','Adam','RMSprop')\n",
        "Loss = []\n",
        "Losses = []\n",
        "for i in range(1,4):\n",
        "  #1 for SGD, 2 for Adam, 3 for rmsprop\n",
        "  start = time.time()\n",
        "  Loss = neuronalWorking(i)\n",
        "  Losses.append([Loss])\n",
        "  end = time.time()\n",
        "  print('Método ejecutado '+algorithms[i-1]+ ' tiempo de ejecución en segundos: ' + str((end-start)))\n",
        "  print('\\n')\n",
        "  print('\\n')"
      ],
      "execution_count": 19,
      "outputs": [
        {
          "output_type": "stream",
          "text": [
            "SGD algorithm\n",
            "\n",
            "Validation set: Average loss: 0.0293, Accuracy: 9904/10000 (99%)\n",
            "\n"
          ],
          "name": "stdout"
        },
        {
          "output_type": "display_data",
          "data": {
            "image/png": "[encoded data removed]",
            "text/plain": [
              "<Figure size 432x288 with 1 Axes>"
            ]
          },
          "metadata": {
            "tags": []
          }
        },
        {
          "output_type": "stream",
          "text": [
            "Método ejecutado SGD tiempo de ejecución en segundos: 43.25088882446289\n",
            "\n",
            "\n",
            "\n",
            "\n",
            "Adam algorithm\n",
            "\n",
            "Validation set: Average loss: 0.0387, Accuracy: 9882/10000 (99%)\n",
            "\n"
          ],
          "name": "stdout"
        },
        {
          "output_type": "display_data",
          "data": {
            "image/png": "[encoded data removed]",
            "text/plain": [
              "<Figure size 432x288 with 1 Axes>"
            ]
          },
          "metadata": {
            "tags": []
          }
        },
        {
          "output_type": "stream",
          "text": [
            "Método ejecutado Adam tiempo de ejecución en segundos: 43.470457792282104\n",
            "\n",
            "\n",
            "\n",
            "\n",
            "RMSprop algorithm\n",
            "\n",
            "Validation set: Average loss: 2.3018, Accuracy: 1028/10000 (10%)\n",
            "\n"
          ],
          "name": "stdout"
        },
        {
          "output_type": "display_data",
          "data": {
            "image/png": "[encoded data removed]",
            "text/plain": [
              "<Figure size 432x288 with 1 Axes>"
            ]
          },
          "metadata": {
            "tags": []
          }
        },
        {
          "output_type": "stream",
          "text": [
            "Método ejecutado RMSprop tiempo de ejecución en segundos: 43.380455493927\n",
            "\n",
            "\n",
            "\n",
            "\n"
          ],
          "name": "stdout"
        }
      ]
    },
    {
      "cell_type": "markdown",
      "metadata": {
        "id": "u82bem5Aa-FI",
        "colab_type": "text"
      },
      "source": [
        "SDG has the best performance, takes less time and has better accuracy than Adam. RMSprop failed with 0.9 momentum. Now we wil try RMSprop with 0.5 momentum."
      ]
    },
    {
      "cell_type": "code",
      "metadata": {
        "id": "gDt2FJhjbvta",
        "colab_type": "code",
        "colab": {}
      },
      "source": [
        "def optimization(algorithm, model):\n",
        "  #algorithm 1 is SGD algorithm; algorithm 2 is Adam algorithm; algorithm 3 is rmsprop algorithm;\n",
        "  #Paremeters shared by the algorithms:\n",
        "  LR = 0.01; #0.01 default value\n",
        "  MOMENTUM = 0.5; #0 for rmsprop, Adam not momentum need it. 0.5 default for SGD\n",
        "  EPS = 1e-08;  #1e-08 default value. SGD no need parameter\n",
        "  if algorithm == 1:\n",
        "      #SGD\n",
        "      optimizer = optim.SGD(model.parameters(), lr=0.01, momentum=0.9)\n",
        "      print(\"SGD algorithm\")\n",
        "  elif algorithm == 2:\n",
        "      #Adam\n",
        "      optimizer = optim.Adam(model.parameters(), lr=0.001, betas=(0.9, 0.999), eps=1e-08, weight_decay=0, amsgrad=False)\n",
        "      print(\"Adam algorithm\")\n",
        "  elif algorithm == 3:\n",
        "      #rmsprop\n",
        "      optimizer = optim.RMSprop(model.parameters(), lr=0.001, alpha=0.99, eps=1e-08, weight_decay=0, momentum=0.5, centered=False)\n",
        "      print(\"RMSprop algorithm\")\n",
        "\n",
        "  return optimizer;"
      ],
      "execution_count": 0,
      "outputs": []
    },
    {
      "cell_type": "code",
      "metadata": {
        "id": "KO46z1F5b0OW",
        "colab_type": "code",
        "colab": {
          "base_uri": "https://localhost:8080/",
          "height": 1000
        },
        "outputId": "7c46a3cb-d012-4a45-fe44-e4531ee0945b"
      },
      "source": [
        "algorithms = ('SGD','Adam','RMSprop')\n",
        "Loss = []\n",
        "Losses = []\n",
        "for i in range(1,4):\n",
        "  #1 for SGD, 2 for Adam, 3 for rmsprop\n",
        "  start = time.time()\n",
        "  Loss = neuronalWorking(i)\n",
        "  Losses.append([Loss])\n",
        "  end = time.time()\n",
        "  print('Método ejecutado '+algorithms[i-1]+ ' tiempo de ejecución en segundos: ' + str((end-start)))\n",
        "  print('\\n')\n",
        "  print('\\n')"
      ],
      "execution_count": 21,
      "outputs": [
        {
          "output_type": "stream",
          "text": [
            "SGD algorithm\n",
            "\n",
            "Validation set: Average loss: 0.0305, Accuracy: 9901/10000 (99%)\n",
            "\n"
          ],
          "name": "stdout"
        },
        {
          "output_type": "display_data",
          "data": {
            "image/png": "[encoded data removed]",
            "text/plain": [
              "<Figure size 432x288 with 1 Axes>"
            ]
          },
          "metadata": {
            "tags": []
          }
        },
        {
          "output_type": "stream",
          "text": [
            "Método ejecutado SGD tiempo de ejecución en segundos: 43.083590507507324\n",
            "\n",
            "\n",
            "\n",
            "\n",
            "Adam algorithm\n",
            "\n",
            "Validation set: Average loss: 0.0250, Accuracy: 9917/10000 (99%)\n",
            "\n"
          ],
          "name": "stdout"
        },
        {
          "output_type": "display_data",
          "data": {
            "image/png": "[encoded data removed]",
            "text/plain": [
              "<Figure size 432x288 with 1 Axes>"
            ]
          },
          "metadata": {
            "tags": []
          }
        },
        {
          "output_type": "stream",
          "text": [
            "Método ejecutado Adam tiempo de ejecución en segundos: 43.58955788612366\n",
            "\n",
            "\n",
            "\n",
            "\n",
            "RMSprop algorithm\n",
            "\n",
            "Validation set: Average loss: 0.0433, Accuracy: 9880/10000 (99%)\n",
            "\n"
          ],
          "name": "stdout"
        },
        {
          "output_type": "display_data",
          "data": {
            "image/png": "[encoded data removed]",
            "text/plain": [
              "<Figure size 432x288 with 1 Axes>"
            ]
          },
          "metadata": {
            "tags": []
          }
        },
        {
          "output_type": "stream",
          "text": [
            "Método ejecutado RMSprop tiempo de ejecución en segundos: 43.349528551101685\n",
            "\n",
            "\n",
            "\n",
            "\n"
          ],
          "name": "stdout"
        }
      ]
    },
    {
      "cell_type": "markdown",
      "metadata": {
        "id": "f0jxyD-NcioQ",
        "colab_type": "text"
      },
      "source": [
        "SDG is still the best with momentum 0.9 and time spent, but RMSprop has less noise."
      ]
    },
    {
      "cell_type": "markdown",
      "metadata": {
        "id": "D0k2vL4MdI_Y",
        "colab_type": "text"
      },
      "source": [
        "Finally we will try with more learning rates for the 3 optimizers."
      ]
    },
    {
      "cell_type": "code",
      "metadata": {
        "id": "JY_jZ1nJdUzu",
        "colab_type": "code",
        "colab": {}
      },
      "source": [
        "def optimization(algorithm, model):\n",
        "  #algorithm 1 is SGD algorithm; algorithm 2 is Adam algorithm; algorithm 3 is rmsprop algorithm;\n",
        "  #Paremeters shared by the algorithms:\n",
        "  LR = 0.01; #0.01 default value\n",
        "  MOMENTUM = 0.5; #0 for rmsprop, Adam not momentum need it. 0.5 default for SGD\n",
        "  EPS = 1e-08;  #1e-08 default value. SGD no need parameter\n",
        "  if algorithm == 1:\n",
        "      #SGD\n",
        "      optimizer = optim.SGD(model.parameters(), lr=0.05, momentum=0.9)\n",
        "      print(\"SGD algorithm\")\n",
        "  elif algorithm == 2:\n",
        "      #Adam\n",
        "      optimizer = optim.Adam(model.parameters(), lr=0.005, betas=(0.9, 0.999), eps=1e-08, weight_decay=0, amsgrad=False)\n",
        "      print(\"Adam algorithm\")\n",
        "  elif algorithm == 3:\n",
        "      #rmsprop\n",
        "      optimizer = optim.RMSprop(model.parameters(), lr=0.007, alpha=0.99, eps=1e-08, weight_decay=0, momentum=0.5, centered=False)\n",
        "      print(\"RMSprop algorithm\")\n",
        "\n",
        "  return optimizer;"
      ],
      "execution_count": 0,
      "outputs": []
    },
    {
      "cell_type": "code",
      "metadata": {
        "id": "DQXEQSkhds7G",
        "colab_type": "code",
        "colab": {
          "base_uri": "https://localhost:8080/",
          "height": 1000
        },
        "outputId": "d55132c7-7c2e-41ec-b7bb-4a1ec7c22466"
      },
      "source": [
        "algorithms = ('SGD','Adam','RMSprop')\n",
        "Loss = []\n",
        "Losses = []\n",
        "for i in range(1,4):\n",
        "  #1 for SGD, 2 for Adam, 3 for rmsprop\n",
        "  start = time.time()\n",
        "  Loss = neuronalWorking(i)\n",
        "  Losses.append([Loss])\n",
        "  end = time.time()\n",
        "  print('Método ejecutado '+algorithms[i-1]+ ' tiempo de ejecución en segundos: ' + str((end-start)))\n",
        "  print('\\n')\n",
        "  print('\\n')"
      ],
      "execution_count": 23,
      "outputs": [
        {
          "output_type": "stream",
          "text": [
            "SGD algorithm\n",
            "\n",
            "Validation set: Average loss: 0.0302, Accuracy: 9905/10000 (99%)\n",
            "\n"
          ],
          "name": "stdout"
        },
        {
          "output_type": "display_data",
          "data": {
            "image/png": "[encoded data removed]",
            "text/plain": [
              "<Figure size 432x288 with 1 Axes>"
            ]
          },
          "metadata": {
            "tags": []
          }
        },
        {
          "output_type": "stream",
          "text": [
            "Método ejecutado SGD tiempo de ejecución en segundos: 43.36020350456238\n",
            "\n",
            "\n",
            "\n",
            "\n",
            "Adam algorithm\n",
            "\n",
            "Validation set: Average loss: 0.0550, Accuracy: 9831/10000 (98%)\n",
            "\n"
          ],
          "name": "stdout"
        },
        {
          "output_type": "display_data",
          "data": {
            "image/png": "[encoded data removed]",
            "text/plain": [
              "<Figure size 432x288 with 1 Axes>"
            ]
          },
          "metadata": {
            "tags": []
          }
        },
        {
          "output_type": "stream",
          "text": [
            "Método ejecutado Adam tiempo de ejecución en segundos: 43.14004731178284\n",
            "\n",
            "\n",
            "\n",
            "\n",
            "RMSprop algorithm\n",
            "\n",
            "Validation set: Average loss: 2.3015, Accuracy: 1135/10000 (11%)\n",
            "\n"
          ],
          "name": "stdout"
        },
        {
          "output_type": "display_data",
          "data": {
            "image/png": "[encoded data removed]",
            "text/plain": [
              "<Figure size 432x288 with 1 Axes>"
            ]
          },
          "metadata": {
            "tags": []
          }
        },
        {
          "output_type": "stream",
          "text": [
            "Método ejecutado RMSprop tiempo de ejecución en segundos: 43.18367052078247\n",
            "\n",
            "\n",
            "\n",
            "\n"
          ],
          "name": "stdout"
        }
      ]
    }
  ]
}