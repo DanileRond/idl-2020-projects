{
  "nbformat": 4,
  "nbformat_minor": 0,
  "metadata": {
    "colab": {
      "name": "weight_initialization.ipynb",
      "provenance": [],
      "collapsed_sections": []
    },
    "kernelspec": {
      "name": "python3",
      "display_name": "Python 3"
    },
    "accelerator": "GPU"
  },
  "cells": [
    {
      "cell_type": "code",
      "metadata": {
        "id": "8x_FmBh5v6Vy",
        "colab_type": "code",
        "outputId": "5b98e40a-c22a-430c-fff9-49afffbe05b9",
        "colab": {
          "base_uri": "https://localhost:8080/",
          "height": 599
        }
      },
      "source": [
        "!pip install pillow==5.4.1\n",
        "!pip install matplotlib\n",
        "!pip install scikit-learn\n",
        "!pip install torch\n",
        "!pip install torchvision"
      ],
      "execution_count": 2,
      "outputs": [
        {
          "output_type": "stream",
          "text": [
            "Collecting pillow==5.4.1\n",
            "\u001b[?25l  Downloading https://files.pythonhosted.org/packages/85/5e/e91792f198bbc5a0d7d3055ad552bc4062942d27eaf75c3e2783cf64eae5/Pillow-5.4.1-cp36-cp36m-manylinux1_x86_64.whl (2.0MB)\n",
            "\u001b[K     |████████████████████████████████| 2.0MB 9.3MB/s \n",
            "\u001b[31mERROR: albumentations 0.1.12 has requirement imgaug<0.2.7,>=0.2.5, but you'll have imgaug 0.2.9 which is incompatible.\u001b[0m\n",
            "\u001b[?25hInstalling collected packages: pillow\n",
            "  Found existing installation: Pillow 6.2.2\n",
            "    Uninstalling Pillow-6.2.2:\n",
            "      Successfully uninstalled Pillow-6.2.2\n",
            "Successfully installed pillow-5.4.1\n"
          ],
          "name": "stdout"
        },
        {
          "output_type": "display_data",
          "data": {
            "application/vnd.colab-display-data+json": {
              "pip_warning": {
                "packages": [
                  "PIL"
                ]
              }
            }
          },
          "metadata": {
            "tags": []
          }
        },
        {
          "output_type": "stream",
          "text": [
            "Requirement already satisfied: matplotlib in /usr/local/lib/python3.6/dist-packages (3.1.2)\n",
            "Requirement already satisfied: numpy>=1.11 in /usr/local/lib/python3.6/dist-packages (from matplotlib) (1.17.5)\n",
            "Requirement already satisfied: pyparsing!=2.0.4,!=2.1.2,!=2.1.6,>=2.0.1 in /usr/local/lib/python3.6/dist-packages (from matplotlib) (2.4.6)\n",
            "Requirement already satisfied: cycler>=0.10 in /usr/local/lib/python3.6/dist-packages (from matplotlib) (0.10.0)\n",
            "Requirement already satisfied: python-dateutil>=2.1 in /usr/local/lib/python3.6/dist-packages (from matplotlib) (2.6.1)\n",
            "Requirement already satisfied: kiwisolver>=1.0.1 in /usr/local/lib/python3.6/dist-packages (from matplotlib) (1.1.0)\n",
            "Requirement already satisfied: six in /usr/local/lib/python3.6/dist-packages (from cycler>=0.10->matplotlib) (1.12.0)\n",
            "Requirement already satisfied: setuptools in /usr/local/lib/python3.6/dist-packages (from kiwisolver>=1.0.1->matplotlib) (42.0.2)\n",
            "Requirement already satisfied: scikit-learn in /usr/local/lib/python3.6/dist-packages (0.22.1)\n",
            "Requirement already satisfied: numpy>=1.11.0 in /usr/local/lib/python3.6/dist-packages (from scikit-learn) (1.17.5)\n",
            "Requirement already satisfied: scipy>=0.17.0 in /usr/local/lib/python3.6/dist-packages (from scikit-learn) (1.4.1)\n",
            "Requirement already satisfied: joblib>=0.11 in /usr/local/lib/python3.6/dist-packages (from scikit-learn) (0.14.1)\n",
            "Requirement already satisfied: torch in /usr/local/lib/python3.6/dist-packages (1.3.1)\n",
            "Requirement already satisfied: numpy in /usr/local/lib/python3.6/dist-packages (from torch) (1.17.5)\n",
            "Requirement already satisfied: torchvision in /usr/local/lib/python3.6/dist-packages (0.4.2)\n",
            "Requirement already satisfied: six in /usr/local/lib/python3.6/dist-packages (from torchvision) (1.12.0)\n",
            "Requirement already satisfied: torch==1.3.1 in /usr/local/lib/python3.6/dist-packages (from torchvision) (1.3.1)\n",
            "Requirement already satisfied: numpy in /usr/local/lib/python3.6/dist-packages (from torchvision) (1.17.5)\n",
            "Requirement already satisfied: pillow>=4.1.1 in /usr/local/lib/python3.6/dist-packages (from torchvision) (5.4.1)\n"
          ],
          "name": "stdout"
        }
      ]
    },
    {
      "cell_type": "markdown",
      "metadata": {
        "id": "6G7an_c5xKZ8",
        "colab_type": "text"
      },
      "source": [
        "IMPORTS"
      ]
    },
    {
      "cell_type": "code",
      "metadata": {
        "id": "ZZfYe_dvxL0M",
        "colab_type": "code",
        "colab": {}
      },
      "source": [
        "import matplotlib.pyplot as plt\n",
        "import numpy as np\n",
        "import random\n",
        "import torch\n",
        "import torch.nn as nn\n",
        "import torch.nn.functional as F\n",
        "import torch.optim as optim\n",
        "from torchvision import datasets, transforms"
      ],
      "execution_count": 0,
      "outputs": []
    },
    {
      "cell_type": "code",
      "metadata": {
        "id": "bBceAQz0xMgE",
        "colab_type": "code",
        "colab": {}
      },
      "source": [
        "seed = 20\n",
        "torch.manual_seed(seed)\n",
        "torch.backends.cudnn.deterministic = True\n",
        "torch.backends.cudnn.benchmark = False\n",
        "np.random.seed(seed)\n",
        "random.seed(seed)"
      ],
      "execution_count": 0,
      "outputs": []
    },
    {
      "cell_type": "markdown",
      "metadata": {
        "id": "g_6EIJkhxfgR",
        "colab_type": "text"
      },
      "source": [
        "CONSTRUCTORS AND FUNCTIONS"
      ]
    },
    {
      "cell_type": "code",
      "metadata": {
        "id": "v5csjdnfxZUB",
        "colab_type": "code",
        "colab": {}
      },
      "source": [
        "class Net(nn.Module):\n",
        "    def __init__(self):\n",
        "        super(Net, self).__init__()\n",
        "        self.conv1 = nn.Conv2d(1, 20, 5, 1)\n",
        "        self.conv2 = nn.Conv2d(20, 50, 5, 1)\n",
        "        self.fc1 = nn.Linear(4*4*50, 500)\n",
        "        self.fc2 = nn.Linear(500, 10)\n",
        "\n",
        "    def forward(self, x):\n",
        "        x = F.relu(self.conv1(x))\n",
        "        x = F.max_pool2d(x, 2, 2)\n",
        "        x = F.relu(self.conv2(x))\n",
        "        x = F.max_pool2d(x, 2, 2)\n",
        "        x = x.view(-1, 4*4*50)\n",
        "        x = F.relu(self.fc1(x))\n",
        "        x = self.fc2(x)\n",
        "        return F.log_softmax(x, dim=1)"
      ],
      "execution_count": 0,
      "outputs": []
    },
    {
      "cell_type": "code",
      "metadata": {
        "id": "prstikKt5ez1",
        "colab_type": "code",
        "colab": {}
      },
      "source": [
        "def train(log_interval, model, device, train_loader, optimizer, epoch):\n",
        "    losses = []\n",
        "    model.train()\n",
        "    for batch_idx, (data, target) in enumerate(train_loader):\n",
        "        data, target = data.to(device), target.to(device)\n",
        "        optimizer.zero_grad()\n",
        "        output = model(data)\n",
        "        loss = F.nll_loss(output, target)\n",
        "        loss.backward()\n",
        "        optimizer.step()\n",
        "        losses.append(loss.item())\n",
        "    return losses"
      ],
      "execution_count": 0,
      "outputs": []
    },
    {
      "cell_type": "code",
      "metadata": {
        "id": "Hpw8qtFcxkjS",
        "colab_type": "code",
        "colab": {}
      },
      "source": [
        "def validate(model, device, loader):\n",
        "    \n",
        "    model.eval()  # let's put the model in evaluation mode\n",
        "\n",
        "    validation_loss = 0\n",
        "    correct = 0\n",
        "    \n",
        "    with torch.no_grad():  # we don't need gradient computation at all\n",
        "        for data, target in loader:\n",
        "            data, target = data.to(device), target.to(device)\n",
        "            output = model(data)\n",
        "            validation_loss += F.nll_loss(output, target, reduction='sum').item() # sum up batch loss\n",
        "            pred = output.argmax(dim=1, keepdim=True) # get the index of the max log-probability\n",
        "            correct += pred.eq(target.view_as(pred)).sum().item()\n",
        "\n",
        "    validation_loss /= len(loader.dataset)\n",
        "\n",
        "    print('\\nValidation set: Average loss: {:.4f}, Accuracy: {}/{} ({:.2f}%)\\n'.format(\n",
        "        validation_loss, correct, len(loader.dataset),\n",
        "        100. * correct / len(loader.dataset)))\n",
        "    \n",
        "    return validation_loss"
      ],
      "execution_count": 0,
      "outputs": []
    },
    {
      "cell_type": "code",
      "metadata": {
        "id": "FnUXMfe4Fclq",
        "colab_type": "code",
        "colab": {}
      },
      "source": [
        "def validate_accuracy(model, device, loader):\n",
        "    \n",
        "    model.eval()  # let's put the model in evaluation mode\n",
        "\n",
        "    validation_loss = 0\n",
        "    correct = 0\n",
        "    \n",
        "    with torch.no_grad():  # we don't need gradient computation at all\n",
        "        for data, target in loader:\n",
        "            data, target = data.to(device), target.to(device)\n",
        "            output = model(data)\n",
        "            validation_loss += F.nll_loss(output, target, reduction='sum').item() # sum up batch loss\n",
        "            pred = output.argmax(dim=1, keepdim=True) # get the index of the max log-probability\n",
        "            correct += pred.eq(target.view_as(pred)).sum().item()\n",
        "\n",
        "    validation_loss /= len(loader.dataset)\n",
        "\n",
        "    return (str(100. * correct / len(loader.dataset))+\"%\")"
      ],
      "execution_count": 0,
      "outputs": []
    },
    {
      "cell_type": "markdown",
      "metadata": {
        "id": "SfhKwgDSxsj2",
        "colab_type": "text"
      },
      "source": [
        "MNIST LOADER"
      ]
    },
    {
      "cell_type": "code",
      "metadata": {
        "id": "dT5KfMhPxmmA",
        "colab_type": "code",
        "outputId": "91dbc296-579f-4cc5-e4b4-ad7a2b4b87d0",
        "colab": {
          "base_uri": "https://localhost:8080/",
          "height": 275
        }
      },
      "source": [
        "train_batch_size = 128\n",
        "\n",
        "mnist_mean = 0.1307\n",
        "mnist_stddev = 0.3081\n",
        "train_loader = torch.utils.data.DataLoader(\n",
        "    datasets.MNIST('./data',\n",
        "                   train=True,\n",
        "                   download=True,\n",
        "                   transform=transforms.Compose([\n",
        "                       transforms.ToTensor(),\n",
        "                       transforms.Normalize((mnist_mean,), (mnist_stddev,))\n",
        "                   ])),\n",
        "    batch_size=train_batch_size,\n",
        "    shuffle=True)\n",
        "\n",
        "valid_batch_size = 1000\n",
        "valid_loader = torch.utils.data.DataLoader(\n",
        "    datasets.MNIST('./data',\n",
        "                   train=False,\n",
        "                   transform=transforms.Compose([\n",
        "                       transforms.ToTensor(),\n",
        "                       transforms.Normalize((mnist_mean,), (mnist_stddev,))\n",
        "                   ])),\n",
        "    batch_size=valid_batch_size,\n",
        "    shuffle=True)"
      ],
      "execution_count": 9,
      "outputs": [
        {
          "output_type": "stream",
          "text": [
            "\r0it [00:00, ?it/s]"
          ],
          "name": "stderr"
        },
        {
          "output_type": "stream",
          "text": [
            "Downloading http://yann.lecun.com/exdb/mnist/train-images-idx3-ubyte.gz to ./data/MNIST/raw/train-images-idx3-ubyte.gz\n"
          ],
          "name": "stdout"
        },
        {
          "output_type": "stream",
          "text": [
            "9920512it [00:01, 8343928.23it/s]                            \n"
          ],
          "name": "stderr"
        },
        {
          "output_type": "stream",
          "text": [
            "Extracting ./data/MNIST/raw/train-images-idx3-ubyte.gz to ./data/MNIST/raw\n"
          ],
          "name": "stdout"
        },
        {
          "output_type": "stream",
          "text": [
            "  0%|          | 0/28881 [00:00<?, ?it/s]"
          ],
          "name": "stderr"
        },
        {
          "output_type": "stream",
          "text": [
            "Downloading http://yann.lecun.com/exdb/mnist/train-labels-idx1-ubyte.gz to ./data/MNIST/raw/train-labels-idx1-ubyte.gz\n"
          ],
          "name": "stdout"
        },
        {
          "output_type": "stream",
          "text": [
            "32768it [00:00, 130364.96it/s]           \n",
            "  0%|          | 0/1648877 [00:00<?, ?it/s]"
          ],
          "name": "stderr"
        },
        {
          "output_type": "stream",
          "text": [
            "Extracting ./data/MNIST/raw/train-labels-idx1-ubyte.gz to ./data/MNIST/raw\n",
            "Downloading http://yann.lecun.com/exdb/mnist/t10k-images-idx3-ubyte.gz to ./data/MNIST/raw/t10k-images-idx3-ubyte.gz\n"
          ],
          "name": "stdout"
        },
        {
          "output_type": "stream",
          "text": [
            "1654784it [00:00, 2140595.59it/s]                            \n",
            "0it [00:00, ?it/s]"
          ],
          "name": "stderr"
        },
        {
          "output_type": "stream",
          "text": [
            "Extracting ./data/MNIST/raw/t10k-images-idx3-ubyte.gz to ./data/MNIST/raw\n",
            "Downloading http://yann.lecun.com/exdb/mnist/t10k-labels-idx1-ubyte.gz to ./data/MNIST/raw/t10k-labels-idx1-ubyte.gz\n"
          ],
          "name": "stdout"
        },
        {
          "output_type": "stream",
          "text": [
            "8192it [00:00, 43777.84it/s]            \n"
          ],
          "name": "stderr"
        },
        {
          "output_type": "stream",
          "text": [
            "Extracting ./data/MNIST/raw/t10k-labels-idx1-ubyte.gz to ./data/MNIST/raw\n",
            "Processing...\n",
            "Done!\n"
          ],
          "name": "stdout"
        }
      ]
    },
    {
      "cell_type": "markdown",
      "metadata": {
        "id": "Fo0Pe4_px1dS",
        "colab_type": "text"
      },
      "source": [
        "\n",
        "\n",
        "---\n",
        "\n",
        "\n",
        "\n"
      ]
    },
    {
      "cell_type": "markdown",
      "metadata": {
        "id": "QYfbxU7Ix-Vw",
        "colab_type": "text"
      },
      "source": [
        "We can perform different types of initializations:\n",
        "\n",
        "\n",
        "*   Zero initialization\n",
        "*   Random initialization\n",
        "*   Xavier/Glorot initialization\n",
        "*   He initialization\n",
        "\n"
      ]
    },
    {
      "cell_type": "code",
      "metadata": {
        "id": "a_VRqaJrdLhn",
        "colab_type": "code",
        "colab": {}
      },
      "source": [
        "def weights_init_zeros(m):\n",
        "    if type(m) == nn.Linear:\n",
        "        torch.nn.init.zeros_(m.weight)\n",
        "        torch.nn.init.zeros_(m.bias)\n",
        "    if type(m) == nn.Conv2d:\n",
        "        torch.nn.init.zeros_(m.weight)\n",
        "        torch.nn.init.zeros_(m.bias)\n",
        "def weights_init_xavier_he(m):\n",
        "    if type(m) == nn.Linear:\n",
        "        torch.nn.init.xavier_uniform_(m.weight)\n",
        "        torch.nn.init.zeros_(m.bias)\n",
        "    if type(m) == nn.Conv2d:\n",
        "        torch.nn.init.kaiming_uniform_(m.weight)\n",
        "        torch.nn.init.zeros_(m.bias)\n",
        "\n",
        "def weights_init_he_xavier(m):\n",
        "    if type(m) == nn.Linear:\n",
        "        torch.nn.init.kaiming_uniform_(m.weight)\n",
        "        torch.nn.init.zeros_(m.bias)\n",
        "    if type(m) == nn.Conv2d:\n",
        "        torch.nn.init.xavier_uniform_(m.weight)\n",
        "        torch.nn.init.zeros_(m.bias)\n",
        "\n",
        "def weights_init_xavier_xavier(m):\n",
        "    if type(m) == nn.Linear:\n",
        "        torch.nn.init.xavier_uniform_(m.weight)\n",
        "        torch.nn.init.zeros_(m.bias)\n",
        "    if type(m) == nn.Conv2d:\n",
        "        torch.nn.init.xavier_uniform_(m.weight)\n",
        "        torch.nn.init.zeros_(m.bias)\n",
        "\n",
        "def weights_init_he(m):\n",
        "    if type(m) == nn.Linear:\n",
        "        torch.nn.init.kaiming_uniform_(m.weight)\n",
        "        torch.nn.init.zeros_(m.bias)\n",
        "    if type(m) == nn.Conv2d:\n",
        "        torch.nn.init.kaiming_uniform_(m.weight)\n",
        "        torch.nn.init.zeros_(m.bias)\n",
        "\n",
        "def weights_init_random(m):\n",
        "    if type(m) == nn.Linear:\n",
        "        torch.nn.init.normal_(m.weight,mean = 0, std = 1)\n",
        "        torch.nn.init.zeros_(m.bias)\n",
        "    if type(m) == nn.Conv2d:\n",
        "        torch.nn.init.normal_(m.weight,mean = 0, std = 1)\n",
        "        torch.nn.init.zeros_(m.bias)"
      ],
      "execution_count": 0,
      "outputs": []
    },
    {
      "cell_type": "code",
      "metadata": {
        "id": "htznWEL7x3nw",
        "colab_type": "code",
        "colab": {}
      },
      "source": [
        "initializations = [-1,weights_init_he,weights_init_he_xavier,weights_init_xavier_he,weights_init_xavier_xavier, weights_init_random,weights_init_zeros]\n",
        "strings = [\"Default init\",\"Both He init\", \"Linear: He & Conv: Xavier\", \"Linear: Xavier & Conv: He\" , \"Both Xavier\", \"Random init (std=1)\", \"Initializing with zeros\"]\n",
        "final_accuracies = []\n",
        "array_train_losses= []\n",
        "array_valid_x= []\n",
        "array_valid_losses = []\n",
        "for init_function in initializations:\n",
        "  device = torch.device(\"cuda:0\" if torch.cuda.is_available() else \"cpu\")\n",
        "  model = Net().to(device)\n",
        "  optimizer = optim.SGD(model.parameters(), lr=0.01, momentum=0.5)\n",
        "  if init_function != -1:\n",
        "    model.apply(init_function)\n",
        "  train_losses = []\n",
        "  valid_losses = []\n",
        "  valid_x = []\n",
        "  num_epochs = 10\n",
        "  for epoch in range(1, num_epochs + 1):\n",
        "      epoch_losses = train(80, model, device, train_loader, optimizer, epoch)\n",
        "      train_losses.extend(epoch_losses)\n",
        "      valid_loss = validate(model, device, valid_loader)\n",
        "      valid_losses.append([valid_loss])\n",
        "      valid_x.append(len(train_losses) - 1)\n",
        "\n",
        "  array_train_losses.append(train_losses)\n",
        "  array_valid_x.append(valid_x)\n",
        "  array_valid_losses.append(valid_losses)\n",
        "  final_accuracies.append(validate_accuracy(model,device,valid_loader))\n",
        "  #plt.gcf().clear()\n",
        "  #plt.plot(train_losses, 'b-')\n",
        "  #plt.plot(valid_x, valid_losses, 'r-')\n",
        "  #plt.show()"
      ],
      "execution_count": 0,
      "outputs": []
    },
    {
      "cell_type": "markdown",
      "metadata": {
        "id": "Ftj6vpJ79OfA",
        "colab_type": "text"
      },
      "source": [
        "\n",
        "\n",
        "---\n",
        "\n",
        "\n",
        "\n",
        "---\n",
        "\n"
      ]
    },
    {
      "cell_type": "markdown",
      "metadata": {
        "id": "NNug0e3TRX9Y",
        "colab_type": "text"
      },
      "source": [
        "Both the linear and convolutional (conv2d) layers are initialized in pytorch by default with the He (Kaiming) initialization:\n",
        "```python\n",
        "    def reset_parameters(self):\n",
        "        init.kaiming_uniform_(self.weight, a=math.sqrt(5))\n",
        "        if self.bias is not None:\n",
        "            fan_in, _ = init._calculate_fan_in_and_fan_out(self.weight)\n",
        "            bound = 1 / math.sqrt(fan_in)\n",
        "            init.uniform_(self.bias, -bound, bound)\n",
        "```\n",
        "[Pytorch Linear Documentation](https://github.com/pytorch/pytorch/blob/master/torch/nn/modules/linear.py)\n",
        "\n",
        "[Pytorch Conv2d Documentation](https://github.com/pytorch/pytorch/blob/029a968212b018192cb6fc64075e68db9985c86a/torch/nn/modules/conv.py#L49)"
      ]
    },
    {
      "cell_type": "markdown",
      "metadata": {
        "colab_type": "text",
        "id": "QZdYGeDOKDrq"
      },
      "source": [
        "\n",
        "\n",
        "---\n",
        "**PLOTTING EACH TRAINING AND VALIDATION CURVE FOR EVERY METHOD**\n"
      ]
    },
    {
      "cell_type": "markdown",
      "metadata": {
        "id": "5q-QHCgAiKyn",
        "colab_type": "text"
      },
      "source": [
        "It's important to see the training process as it illustrates the convergence of each initialization."
      ]
    },
    {
      "cell_type": "code",
      "metadata": {
        "id": "XKNJfQOsR5CJ",
        "colab_type": "code",
        "outputId": "c1063f73-c83d-476e-a07c-e4f5a1061229",
        "colab": {
          "base_uri": "https://localhost:8080/",
          "height": 1000
        }
      },
      "source": [
        "fig = plt.figure()\n",
        "\n",
        "plt.subplot(4, 2, 1)\n",
        "plt.title(strings[0])\n",
        "plt.plot(array_train_losses[0], 'b-')\n",
        "plt.plot(array_valid_x[0], array_valid_losses[0], 'r-')\n",
        "\n",
        "plt.subplot(4, 2, 2)\n",
        "plt.title(strings[1])\n",
        "plt.plot(array_train_losses[1], 'b-')\n",
        "plt.plot(array_valid_x[1], array_valid_losses[1], 'r-')\n",
        "\n",
        "plt.subplot(4, 2, 3)\n",
        "plt.title(strings[2])\n",
        "plt.plot(array_train_losses[2], 'b-')\n",
        "plt.plot(array_valid_x[2], array_valid_losses[2], 'r-')\n",
        "\n",
        "plt.subplot(4, 2, 4)\n",
        "plt.title(strings[3])\n",
        "plt.plot(array_train_losses[3], 'b-')\n",
        "plt.plot(array_valid_x[3], array_valid_losses[3], 'r-')\n",
        "\n",
        "plt.subplot(4, 2, 5)\n",
        "plt.title(strings[4])\n",
        "plt.plot(array_train_losses[4], 'b-')\n",
        "plt.plot(array_valid_x[4], array_valid_losses[4], 'r-')\n",
        "\n",
        "plt.subplot(4, 2, 6)\n",
        "plt.title(strings[5])\n",
        "plt.plot(array_train_losses[5], 'b-')\n",
        "plt.plot(array_valid_x[5], array_valid_losses[5], 'r-')\n",
        "\n",
        "plt.subplot(4, 2, 7)\n",
        "plt.title(strings[6])\n",
        "plt.plot(array_train_losses[6], 'b-')\n",
        "plt.plot(array_valid_x[6], array_valid_losses[6], 'r-')\n",
        "\n",
        "fig.set_figheight(20)\n",
        "fig.set_figwidth(15)\n",
        "plt.show()"
      ],
      "execution_count": 16,
      "outputs": [
        {
          "output_type": "display_data",
          "data": {
            "image/png": "[encoded data removed]",
            "text/plain": [
              "<Figure size 1080x1440 with 7 Axes>"
            ]
          },
          "metadata": {
            "tags": []
          }
        }
      ]
    },
    {
      "cell_type": "markdown",
      "metadata": {
        "id": "ejiHXqInHRUB",
        "colab_type": "text"
      },
      "source": [
        "**PRINTING THE FINAL ACCURACIES FOR EACH WEIGHTING METHOD**"
      ]
    },
    {
      "cell_type": "code",
      "metadata": {
        "id": "XJccQ8uWHUaH",
        "colab_type": "code",
        "colab": {
          "base_uri": "https://localhost:8080/",
          "height": 306
        },
        "outputId": "35bdf217-aa20-4b32-bdda-4612aa7ac4f9"
      },
      "source": [
        "print(\"Final Accuracies for each method:\\n\\n\")\n",
        "for it in range(len(strings)):\n",
        "  string = strings[it]+ \" : \"+final_accuracies[it]\n",
        "  print(string+\"\\n\")"
      ],
      "execution_count": 17,
      "outputs": [
        {
          "output_type": "stream",
          "text": [
            "Final Accuracies for each method:\n",
            "\n",
            "\n",
            "Default init : 98.74%\n",
            "\n",
            "Both He init : 98.75%\n",
            "\n",
            "Linear: He & Conv: Xavier : 98.79%\n",
            "\n",
            "Linear: Xavier & Conv: He : 98.73%\n",
            "\n",
            "Both Xavier : 98.86%\n",
            "\n",
            "Random init (std=1) : 11.35%\n",
            "\n",
            "Initializing with zeros : 11.35%\n",
            "\n"
          ],
          "name": "stdout"
        }
      ]
    }
  ]
}